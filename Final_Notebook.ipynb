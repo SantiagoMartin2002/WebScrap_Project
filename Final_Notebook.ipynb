{
 "cells": [
  {
   "cell_type": "markdown",
   "metadata": {},
   "source": [
    "# Notebook that first makes API call, then web scrapes, then aggregates scraped data and merges it with the API data to generate one final csv file."
   ]
  },
  {
   "cell_type": "markdown",
   "metadata": {},
   "source": [
    "## Importations"
   ]
  },
  {
   "cell_type": "code",
   "execution_count": 59,
   "metadata": {},
   "outputs": [],
   "source": [
    "import requests\n",
    "import pandas as pd\n",
    "import csv\n",
    "import time\n",
    "import random\n",
    "from bs4 import BeautifulSoup\n",
    "import re\n",
    "from selenium import webdriver\n",
    "from selenium.webdriver.chrome.service import Service"
   ]
  },
  {
   "cell_type": "markdown",
   "metadata": {},
   "source": [
    "## API data retrieval"
   ]
  },
  {
   "cell_type": "code",
   "execution_count": 60,
   "metadata": {},
   "outputs": [],
   "source": [
    "# Define API URL\n",
    "url = \"https://ressources.data.sncf.com/api/records/1.0/search/\"\n",
    "\n",
    "# List of destinations and links\n",
    "# Each tuple contains (Destination, Page1 Link, Page2 Link)\n",
    "destinations_and_links = [\n",
    "    ('Orléans', 'https://www.tripadvisor.fr/Attraction_Review-g187129-d9788284-Reviews-or10-Centre_ville-Orleans_Loiret_Centre_Val_de_Loire.html', None),\n",
    "    ('Metz', 'https://www.tripadvisor.fr/ShowUserReviews-g187164-d2060561-r425068727-Gare_de_Metz_Ville-Metz_Moselle_Grand_Est.html', None),\n",
    "    ('Strasbourg', 'https://www.tripadvisor.fr/ShowUserReviews-g187075-r287480889-Strasbourg_Bas_Rhin_Grand_Est.html#REVIEWS', 'https://www.tripadvisor.fr/ShowUserReviews-g187075-r86136484-Strasbourg_Bas_Rhin_Grand_Est.html#REVIEWS'),\n",
    "    ('Annecy', 'https://www.tripadvisor.fr/ShowUserReviews-g187260-r111704080-Annecy_Haute_Savoie_Auvergne_Rhone_Alpes.html#REVIEWS', 'https://www.tripadvisor.fr/ShowUserReviews-g187260-r86606692-Annecy_Haute_Savoie_Auvergne_Rhone_Alpes.html')\n",
    "]\n",
    "\n",
    "# Extract API data\n",
    "params = {\n",
    "    \"dataset\": \"emission-co2-perimetre-complet\",\n",
    "    \"q\": \"\",\n",
    "    \"rows\": 1000,\n",
    "    \"select\": \"origine, destination, distance_entre_les_gares, train_empreinte_carbone_kgco2e\"\n",
    "}\n",
    "\n",
    "results = []\n",
    "response = requests.get(url, params=params)\n",
    "if response.status_code == 200:\n",
    "    data = response.json()\n",
    "    city_to_link = {city: (link1, link2) for city, link1, link2 in destinations_and_links}\n",
    "    if \"records\" in data and data[\"records\"]:\n",
    "        for record in data[\"records\"]:\n",
    "            fields = record.get(\"fields\", {})\n",
    "            origine = fields.get(\"origine\", \"\")\n",
    "            destination = fields.get(\"destination\", \"\")\n",
    "            if 'Paris' in origine and destination in city_to_link:\n",
    "                results.append({\n",
    "                    \"origine\": origine,\n",
    "                    \"destination\": destination,\n",
    "                    \"page1_link\": city_to_link[destination][0],\n",
    "                    \"page2_link\": city_to_link[destination][1],\n",
    "                    \"distance\": fields.get(\"distance_entre_les_gares\", 0),\n",
    "                    \"train_emissions\": fields.get(\"train_empreinte_carbone_kgco2e\", None)\n",
    "                })\n",
    "else:\n",
    "    print(f\"Error: {response.status_code} - {response.text}\")"
   ]
  },
  {
   "cell_type": "code",
   "execution_count": 61,
   "metadata": {},
   "outputs": [
    {
     "name": "stdout",
     "output_type": "stream",
     "text": [
      "[{'origine': 'Paris Gare de Lyon', 'destination': 'Annecy', 'page1_link': 'https://www.tripadvisor.fr/ShowUserReviews-g187260-r111704080-Annecy_Haute_Savoie_Auvergne_Rhone_Alpes.html#REVIEWS', 'page2_link': 'https://www.tripadvisor.fr/ShowUserReviews-g187260-r86606692-Annecy_Haute_Savoie_Auvergne_Rhone_Alpes.html', 'distance': 545.0, 'train_emissions': 1.5805}, {'origine': 'Paris Est', 'destination': 'Metz', 'page1_link': 'https://www.tripadvisor.fr/ShowUserReviews-g187164-d2060561-r425068727-Gare_de_Metz_Ville-Metz_Moselle_Grand_Est.html', 'page2_link': None, 'distance': 352.0, 'train_emissions': 1.0208}, {'origine': 'Paris Austerlitz', 'destination': 'Orléans', 'page1_link': 'https://www.tripadvisor.fr/Attraction_Review-g187129-d9788284-Reviews-or10-Centre_ville-Orleans_Loiret_Centre_Val_de_Loire.html', 'page2_link': None, 'distance': 121.0, 'train_emissions': 2.9523999999999995}, {'origine': 'Paris Est', 'destination': 'Strasbourg', 'page1_link': 'https://www.tripadvisor.fr/ShowUserReviews-g187075-r287480889-Strasbourg_Bas_Rhin_Grand_Est.html#REVIEWS', 'page2_link': 'https://www.tripadvisor.fr/ShowUserReviews-g187075-r86136484-Strasbourg_Bas_Rhin_Grand_Est.html#REVIEWS', 'distance': 450.58, 'train_emissions': 1.3066820000000001}]\n"
     ]
    }
   ],
   "source": [
    "print(results)"
   ]
  },
  {
   "cell_type": "markdown",
   "metadata": {},
   "source": [
    "## Web scraping reviews"
   ]
  },
  {
   "cell_type": "code",
   "execution_count": 62,
   "metadata": {},
   "outputs": [],
   "source": [
    "# Collect Reviews\n",
    "driver_path = 'C:/ChromeDriver/chromedriver-win64/chromedriver.exe'\n",
    "service = Service(driver_path)\n",
    "driver = webdriver.Chrome(service=service)\n",
    "\n",
    "# Function to convert rating bubbles\n",
    "def convert_bubble_to_rating(bubble_class):\n",
    "    if 'bubble_' in bubble_class:\n",
    "        bubble_value = int(bubble_class.split('_')[1])\n",
    "        return bubble_value // 10\n",
    "    return None\n",
    "\n",
    "all_reviews = []\n",
    "for record in results:\n",
    "    origine = record['origine']\n",
    "    destination = record['destination']\n",
    "    for page_link in ['page1_link', 'page2_link']:\n",
    "        url = record[page_link]\n",
    "        if not url: continue\n",
    "        time.sleep(random.uniform(3, 7))\n",
    "        response = requests.get(url, headers={\n",
    "            'User-Agent': 'Mozilla/5.0 (Windows NT 10.0; Win64; x64; rv:104.0) Gecko/20100101 Firefox/104.0',\n",
    "            'Accept-Language': 'fr-FR,fr;q=0.9',\n",
    "            'Referer': 'https://www.google.com',\n",
    "            'Connection': 'keep-alive'\n",
    "        })\n",
    "        if response.status_code == 200:\n",
    "            soup = BeautifulSoup(response.text, 'html.parser')\n",
    "            review_blocks = soup.find_all('div', id=re.compile(r'review_\\d+'))\n",
    "            for block in review_blocks:\n",
    "                title = block.find('div', class_='quote').get_text(strip=True) if block.find('div', class_='quote') else None\n",
    "                content = block.find('div', class_='entry').get_text(strip=True) if block.find('div', class_='entry') else None\n",
    "                rating_element = block.find('span', class_='ui_bubble_rating')\n",
    "                rating = convert_bubble_to_rating(rating_element['class'][1]) if rating_element else None\n",
    "                all_reviews.append({\n",
    "                    'origine': origine,\n",
    "                    'destination': destination,\n",
    "                    'page1_link': record['page1_link'],\n",
    "                    'page2_link': record['page2_link'],\n",
    "                    'distance': record['distance'],\n",
    "                    'train_emissions': record['train_emissions'],\n",
    "                    'scraped_url': url,\n",
    "                    'title': title,\n",
    "                    'review': content,\n",
    "                    'rating': rating\n",
    "            })\n",
    "        else:\n",
    "            print(f\"Failed to fetch page: {url}\")"
   ]
  },
  {
   "cell_type": "code",
   "execution_count": 63,
   "metadata": {},
   "outputs": [
    {
     "name": "stdout",
     "output_type": "stream",
     "text": [
      "[{'origine': 'Paris Gare de Lyon', 'destination': 'Annecy', 'page1_link': 'https://www.tripadvisor.fr/ShowUserReviews-g187260-r111704080-Annecy_Haute_Savoie_Auvergne_Rhone_Alpes.html#REVIEWS', 'page2_link': 'https://www.tripadvisor.fr/ShowUserReviews-g187260-r86606692-Annecy_Haute_Savoie_Auvergne_Rhone_Alpes.html', 'distance': 545.0, 'train_emissions': 1.5805, 'scraped_url': 'https://www.tripadvisor.fr/ShowUserReviews-g187260-r111704080-Annecy_Haute_Savoie_Auvergne_Rhone_Alpes.html#REVIEWS', 'title': '“Annecyyyy...!!! Quand tu nous tiens..!!!”', 'review': \"Vtt sur le Semnoz, pédalo sur le lac, promenade au bord de l'eau (superbe), l'ambiance de la vielle ville, pti resto super sympa... vraiment vraiment bien.... I love Annecy .... :-)\", 'rating': 5}, {'origine': 'Paris Gare de Lyon', 'destination': 'Annecy', 'page1_link': 'https://www.tripadvisor.fr/ShowUserReviews-g187260-r111704080-Annecy_Haute_Savoie_Auvergne_Rhone_Alpes.html#REVIEWS', 'page2_link': 'https://www.tripadvisor.fr/ShowUserReviews-g187260-r86606692-Annecy_Haute_Savoie_Auvergne_Rhone_Alpes.html', 'distance': 545.0, 'train_emissions': 1.5805, 'scraped_url': 'https://www.tripadvisor.fr/ShowUserReviews-g187260-r111704080-Annecy_Haute_Savoie_Auvergne_Rhone_Alpes.html#REVIEWS', 'title': '“evasion”', 'review': 'ville magnifique avec beaucoup de charme quand je vais a annecy j ai l impresssion de ne plus etre en francepas mal de choses a visiter notamment les gorges du fier non loin du centre balade en bateau sur le lac vieille ville typiqueet de tres bons restaurants mais aussi un joli marche le dimanche', 'rating': 5}, {'origine': 'Paris Gare de Lyon', 'destination': 'Annecy', 'page1_link': 'https://www.tripadvisor.fr/ShowUserReviews-g187260-r111704080-Annecy_Haute_Savoie_Auvergne_Rhone_Alpes.html#REVIEWS', 'page2_link': 'https://www.tripadvisor.fr/ShowUserReviews-g187260-r86606692-Annecy_Haute_Savoie_Auvergne_Rhone_Alpes.html', 'distance': 545.0, 'train_emissions': 1.5805, 'scraped_url': 'https://www.tripadvisor.fr/ShowUserReviews-g187260-r111704080-Annecy_Haute_Savoie_Auvergne_Rhone_Alpes.html#REVIEWS', 'title': \"“lac d'annecy”\", 'review': \"Cet endroit est exceptionnel c'est d'ailleurs pour cela que plusieurs personnes traversent la France pour venir apprécier ce lac.Surtout agréable en été avec ses différentes animations dansantes ou artistiques.Lieu de convivialité pour aussi bien se balader, se poser sur la pelouse ou bien faire du pédalo l'été pour pouvoir explorer les différents horizons du lac et ses verdures.\", 'rating': 5}, {'origine': 'Paris Gare de Lyon', 'destination': 'Annecy', 'page1_link': 'https://www.tripadvisor.fr/ShowUserReviews-g187260-r111704080-Annecy_Haute_Savoie_Auvergne_Rhone_Alpes.html#REVIEWS', 'page2_link': 'https://www.tripadvisor.fr/ShowUserReviews-g187260-r86606692-Annecy_Haute_Savoie_Auvergne_Rhone_Alpes.html', 'distance': 545.0, 'train_emissions': 1.5805, 'scraped_url': 'https://www.tripadvisor.fr/ShowUserReviews-g187260-r111704080-Annecy_Haute_Savoie_Auvergne_Rhone_Alpes.html#REVIEWS', 'title': '“Une ville de rêve!!”', 'review': \"Vous pouvez y trouver tout: les montagnes pour les randonnées, le lac avec de l'eau transparente pour se baigner et les rues anciennes, plein de bâtiments splendides.....\", 'rating': 5}, {'origine': 'Paris Gare de Lyon', 'destination': 'Annecy', 'page1_link': 'https://www.tripadvisor.fr/ShowUserReviews-g187260-r111704080-Annecy_Haute_Savoie_Auvergne_Rhone_Alpes.html#REVIEWS', 'page2_link': 'https://www.tripadvisor.fr/ShowUserReviews-g187260-r86606692-Annecy_Haute_Savoie_Auvergne_Rhone_Alpes.html', 'distance': 545.0, 'train_emissions': 1.5805, 'scraped_url': 'https://www.tripadvisor.fr/ShowUserReviews-g187260-r111704080-Annecy_Haute_Savoie_Auvergne_Rhone_Alpes.html#REVIEWS', 'title': '“Annecy (France)”', 'review': 'Destination idéale pour ceux qui aiment la baignade (eau du lac excellente et de tres bonne qualité), et la montagne (randonnées de tous niveaux).Cadre magnifique pour passer de tres bonnes vacances', 'rating': 4}, {'origine': 'Paris Gare de Lyon', 'destination': 'Annecy', 'page1_link': 'https://www.tripadvisor.fr/ShowUserReviews-g187260-r111704080-Annecy_Haute_Savoie_Auvergne_Rhone_Alpes.html#REVIEWS', 'page2_link': 'https://www.tripadvisor.fr/ShowUserReviews-g187260-r86606692-Annecy_Haute_Savoie_Auvergne_Rhone_Alpes.html', 'distance': 545.0, 'train_emissions': 1.5805, 'scraped_url': 'https://www.tripadvisor.fr/ShowUserReviews-g187260-r86606692-Annecy_Haute_Savoie_Auvergne_Rhone_Alpes.html', 'title': '“Une semaine en Haute-Savoie”', 'review': 'Mai 2010, besoin de vacances et de dépaysement à petit prix urgent.Je propose donc à mon cher et tendre une virée romantique d\\'une semaine en Haute-Savoie. Je connaissais la région pour y être aller petite avec mes grand-parents,Nous partons donc sur Internet à la recherche d\\'un gîte à proximité d\\'Annecy. Après plusieurs jours de recherche nous trouvons une annonce sur \"le bon coin\", 250 € la semaine pour un P2 à Villard-Dessous(commune de Manigod).Arrivé sur place le spectacle nous laisse sans voix, le paysage est fabuleux, les montagnes face à nous enneigées.Nous avons profiter de notre semaine pour visiter Annecy, faire une ballade en bateau sur le Lac d\\'Annecy, aller dans une crémerie acheter le nécessaire pour la fondue savoyarde, visiter le Museùm de Genève (1 heure de route), voir le Lac Léman, visiter Yvoire qui est un magnifique petit village médiéval et piéton ! . Nous avons été voir la cascade du Rouget, dite la Reine des Alpes ou nous avons été arrosé d\\'embruns, visiter La gorge du pont du diable. et encore beaucoup de promenade et marché dans les villages au abord d\\'annecy. C\\'est une très belle région que nous conseillons à tous, petit et grand. Il y a de nombreuses activités pour tous les budgets, notre semain nous est revenu à environ 600 €, sorties, essence, péage, nourriture, location gîte compris.Une des choses que nous regrettons : ne pas avoir vu les marmottes !A noter aussi que si vous aimez visiter il faudra rouler.', 'rating': 5}, {'origine': 'Paris Gare de Lyon', 'destination': 'Annecy', 'page1_link': 'https://www.tripadvisor.fr/ShowUserReviews-g187260-r111704080-Annecy_Haute_Savoie_Auvergne_Rhone_Alpes.html#REVIEWS', 'page2_link': 'https://www.tripadvisor.fr/ShowUserReviews-g187260-r86606692-Annecy_Haute_Savoie_Auvergne_Rhone_Alpes.html', 'distance': 545.0, 'train_emissions': 1.5805, 'scraped_url': 'https://www.tripadvisor.fr/ShowUserReviews-g187260-r86606692-Annecy_Haute_Savoie_Auvergne_Rhone_Alpes.html', 'title': '“le must en matiere de ville”', 'review': \"cette ville m'enchante depuis une dizaine d'annéestant par son tourisme que par ses habitantscette ville est le reflet parfait de mes vacancesj'ai besoin d'y aller au moins une fois par an pour me resourcer\", 'rating': 5}, {'origine': 'Paris Gare de Lyon', 'destination': 'Annecy', 'page1_link': 'https://www.tripadvisor.fr/ShowUserReviews-g187260-r111704080-Annecy_Haute_Savoie_Auvergne_Rhone_Alpes.html#REVIEWS', 'page2_link': 'https://www.tripadvisor.fr/ShowUserReviews-g187260-r86606692-Annecy_Haute_Savoie_Auvergne_Rhone_Alpes.html', 'distance': 545.0, 'train_emissions': 1.5805, 'scraped_url': 'https://www.tripadvisor.fr/ShowUserReviews-g187260-r86606692-Annecy_Haute_Savoie_Auvergne_Rhone_Alpes.html', 'title': '“une ville complète!”', 'review': 'magnifique ville, des activités pour tous: proximité des stations de skis, activités nautiques l\\'été, une ville culturelle et historique magnifique, et un large choix de shopping!!Note spéciale pour le restaurant le \"20/Vins\" dans la vieille ville (passage Golliardi) , une formule originale pour déguster un large choix de bons vins et des plats diversifiés: du risotto au couscous en passant par la souris d\\'agneau ou bien un Mont d\\'or!! en prime, une déco moderne cosy et raffinée!', 'rating': 5}, {'origine': 'Paris Gare de Lyon', 'destination': 'Annecy', 'page1_link': 'https://www.tripadvisor.fr/ShowUserReviews-g187260-r111704080-Annecy_Haute_Savoie_Auvergne_Rhone_Alpes.html#REVIEWS', 'page2_link': 'https://www.tripadvisor.fr/ShowUserReviews-g187260-r86606692-Annecy_Haute_Savoie_Auvergne_Rhone_Alpes.html', 'distance': 545.0, 'train_emissions': 1.5805, 'scraped_url': 'https://www.tripadvisor.fr/ShowUserReviews-g187260-r86606692-Annecy_Haute_Savoie_Auvergne_Rhone_Alpes.html', 'title': '“Très agréable”', 'review': \"Ville très agréable.Pour une promenade sur le lac, il est possible de louer pédalos et autres bateaux avec ou sans moteur, malheureusement une entente sur les prix fausse totalement la concurrence.La ville a décidé de faire les poches des visiteurs grâce au tarif prohibitif des parkings municipaux.La ville s'avère tout à fait adaptée aux personnes âgées ou couples sans enfant(s).\", 'rating': 4}, {'origine': 'Paris Gare de Lyon', 'destination': 'Annecy', 'page1_link': 'https://www.tripadvisor.fr/ShowUserReviews-g187260-r111704080-Annecy_Haute_Savoie_Auvergne_Rhone_Alpes.html#REVIEWS', 'page2_link': 'https://www.tripadvisor.fr/ShowUserReviews-g187260-r86606692-Annecy_Haute_Savoie_Auvergne_Rhone_Alpes.html', 'distance': 545.0, 'train_emissions': 1.5805, 'scraped_url': 'https://www.tripadvisor.fr/ShowUserReviews-g187260-r86606692-Annecy_Haute_Savoie_Auvergne_Rhone_Alpes.html', 'title': '“un endroit ou ne plus jamais revenir”', 'review': 'une jolie ville,entourée de belles montagnes avec un lac magnifique.par contre une trés mauvaise mentalité,un trés mauvais accueille,avec un grand nombre de restaurants \"piege a touriste\" ,les prix sont carrement abusifs et les plats plus que médiocres .les habitants sont froid,sans intéréts,rustres et vraiment mal polies.ils n\\'ont aucun savoir vivre.ils ne sont absolument pas souriant(méme dans les commerces!).je n\\'y remettrais plus jamais les pieds.a éviter pour toute personne désirant profité de bonnes vacances.', 'rating': 1}, {'origine': 'Paris Est', 'destination': 'Metz', 'page1_link': 'https://www.tripadvisor.fr/ShowUserReviews-g187164-d2060561-r425068727-Gare_de_Metz_Ville-Metz_Moselle_Grand_Est.html', 'page2_link': None, 'distance': 352.0, 'train_emissions': 1.0208, 'scraped_url': 'https://www.tripadvisor.fr/ShowUserReviews-g187164-d2060561-r425068727-Gare_de_Metz_Ville-Metz_Moselle_Grand_Est.html', 'title': 'Metz est une ville sale et mal entretenue', 'review': 'Je crois que la municipalité de Metz ne connait pas les \"karcher\" pour nettoyer les trottoirs et toutes les rues. Tout est sale, j\\'ai habité dans plusieurs villes françaises ou non et je n\\'ai jamais vu une ville aussi sale !!!!!!!!!!!!', 'rating': 1}, {'origine': 'Paris Est', 'destination': 'Metz', 'page1_link': 'https://www.tripadvisor.fr/ShowUserReviews-g187164-d2060561-r425068727-Gare_de_Metz_Ville-Metz_Moselle_Grand_Est.html', 'page2_link': None, 'distance': 352.0, 'train_emissions': 1.0208, 'scraped_url': 'https://www.tripadvisor.fr/ShowUserReviews-g187164-d2060561-r425068727-Gare_de_Metz_Ville-Metz_Moselle_Grand_Est.html', 'title': 'Beau monument', 'review': \"La gare de Metz, on y passe sans forcément s'y attarder. C'est un lieu chargé d'histoire, bien entretenu.\", 'rating': 5}, {'origine': 'Paris Est', 'destination': 'Metz', 'page1_link': 'https://www.tripadvisor.fr/ShowUserReviews-g187164-d2060561-r425068727-Gare_de_Metz_Ville-Metz_Moselle_Grand_Est.html', 'page2_link': None, 'distance': 352.0, 'train_emissions': 1.0208, 'scraped_url': 'https://www.tripadvisor.fr/ShowUserReviews-g187164-d2060561-r425068727-Gare_de_Metz_Ville-Metz_Moselle_Grand_Est.html', 'title': 'la gare de metz et très belle a voir historique', 'review': 'metz et une ville très belle chaleureux historique bonne ambiance le soir la ville et très belle a voir', 'rating': 5}, {'origine': 'Paris Est', 'destination': 'Metz', 'page1_link': 'https://www.tripadvisor.fr/ShowUserReviews-g187164-d2060561-r425068727-Gare_de_Metz_Ville-Metz_Moselle_Grand_Est.html', 'page2_link': None, 'distance': 352.0, 'train_emissions': 1.0208, 'scraped_url': 'https://www.tripadvisor.fr/ShowUserReviews-g187164-d2060561-r425068727-Gare_de_Metz_Ville-Metz_Moselle_Grand_Est.html', 'title': 'Jolie...', 'review': \"Très belle structure, surtout vue de l'extérieur....L'arrivée du piano dans le hall donne un petit truc à cette bâtisse.\", 'rating': 4}, {'origine': 'Paris Est', 'destination': 'Metz', 'page1_link': 'https://www.tripadvisor.fr/ShowUserReviews-g187164-d2060561-r425068727-Gare_de_Metz_Ville-Metz_Moselle_Grand_Est.html', 'page2_link': None, 'distance': 352.0, 'train_emissions': 1.0208, 'scraped_url': 'https://www.tripadvisor.fr/ShowUserReviews-g187164-d2060561-r425068727-Gare_de_Metz_Ville-Metz_Moselle_Grand_Est.html', 'title': 'Belle architecture', 'review': 'Une architecture peu conventionnelle pour une gare, mais logique quand on connait son histoire.Elle termine parfaitement le quartier impérial.L\\'histoire de ses quais et du trafic qu\"elle a vu passer est également à connaître.L\\'intérieur pourrait être plus sympa, mais cela reste une gare avec la fonctionnalité qui va avec.L\"oeuvre rendant hommage à Jean Moulin est à voir dans le hall principal.La présence d\\'une librairie Payot est un plus.Le personnel derrière les guichets est très serviable.Parvis de la gare à voir au moment des marchés de Noël pour son immense sapin vosgien et sa crèche.', 'rating': 4}, {'origine': 'Paris Est', 'destination': 'Metz', 'page1_link': 'https://www.tripadvisor.fr/ShowUserReviews-g187164-d2060561-r425068727-Gare_de_Metz_Ville-Metz_Moselle_Grand_Est.html', 'page2_link': None, 'distance': 352.0, 'train_emissions': 1.0208, 'scraped_url': 'https://www.tripadvisor.fr/ShowUserReviews-g187164-d2060561-r425068727-Gare_de_Metz_Ville-Metz_Moselle_Grand_Est.html', 'title': 'Magnifique architecture', 'review': 'Vaut le coup d oeil.Architecture d inspiration allemande très bien rénovée. Tout le quartier gare est sur le même esprit.Bonne visite.', 'rating': 4}, {'origine': 'Paris Est', 'destination': 'Strasbourg', 'page1_link': 'https://www.tripadvisor.fr/ShowUserReviews-g187075-r287480889-Strasbourg_Bas_Rhin_Grand_Est.html#REVIEWS', 'page2_link': 'https://www.tripadvisor.fr/ShowUserReviews-g187075-r86136484-Strasbourg_Bas_Rhin_Grand_Est.html#REVIEWS', 'distance': 450.58, 'train_emissions': 1.3066820000000001, 'scraped_url': 'https://www.tripadvisor.fr/ShowUserReviews-g187075-r287480889-Strasbourg_Bas_Rhin_Grand_Est.html#REVIEWS', 'title': '“journée tres agreable”', 'review': 'ville très bien pour visité ce promené ou encore pour le shoping très belle architecture a allez voir', 'rating': 4}, {'origine': 'Paris Est', 'destination': 'Strasbourg', 'page1_link': 'https://www.tripadvisor.fr/ShowUserReviews-g187075-r287480889-Strasbourg_Bas_Rhin_Grand_Est.html#REVIEWS', 'page2_link': 'https://www.tripadvisor.fr/ShowUserReviews-g187075-r86136484-Strasbourg_Bas_Rhin_Grand_Est.html#REVIEWS', 'distance': 450.58, 'train_emissions': 1.3066820000000001, 'scraped_url': 'https://www.tripadvisor.fr/ShowUserReviews-g187075-r287480889-Strasbourg_Bas_Rhin_Grand_Est.html#REVIEWS', 'title': \"“c'est une ville qui vaut le détour !”\", 'review': \"J'ai été très surprise pas cette ville. c'est une découverte et un vrai coup de coeur. La petite France et le quartier de la cathédrale méritent de s'y perdre en flânant .\", 'rating': 5}, {'origine': 'Paris Est', 'destination': 'Strasbourg', 'page1_link': 'https://www.tripadvisor.fr/ShowUserReviews-g187075-r287480889-Strasbourg_Bas_Rhin_Grand_Est.html#REVIEWS', 'page2_link': 'https://www.tripadvisor.fr/ShowUserReviews-g187075-r86136484-Strasbourg_Bas_Rhin_Grand_Est.html#REVIEWS', 'distance': 450.58, 'train_emissions': 1.3066820000000001, 'scraped_url': 'https://www.tripadvisor.fr/ShowUserReviews-g187075-r287480889-Strasbourg_Bas_Rhin_Grand_Est.html#REVIEWS', 'title': '“beau séjour”', 'review': \"La vieille ville, l'horloge astronomique de la cathédrale à 12h00 le film, et à 12h30 les applications du mécanisme. Une croisière sur l'Ill, qui nous permet de regarder la vieille ville d'un autre regard. Ce fut une belle redécouverte après 28 ans.\", 'rating': 4}, {'origine': 'Paris Est', 'destination': 'Strasbourg', 'page1_link': 'https://www.tripadvisor.fr/ShowUserReviews-g187075-r287480889-Strasbourg_Bas_Rhin_Grand_Est.html#REVIEWS', 'page2_link': 'https://www.tripadvisor.fr/ShowUserReviews-g187075-r86136484-Strasbourg_Bas_Rhin_Grand_Est.html#REVIEWS', 'distance': 450.58, 'train_emissions': 1.3066820000000001, 'scraped_url': 'https://www.tripadvisor.fr/ShowUserReviews-g187075-r287480889-Strasbourg_Bas_Rhin_Grand_Est.html#REVIEWS', 'title': '“à la frontière allemande”', 'review': \"Visitée l'hiver pour le marché de Noël et en 1 journée avec l'aller-retour Paris-Strasbourg en 2h par le TGV-est.Grosse déception du marché de Noël où les stands sont majoritairement les mêmes qu'à Paris et qu'à Nantes.Les gens parlent un allemand bizarre appelé l'alsacien donc pas facile de se sentir en France et de communiquer.Le climat est très froid, pluie verglassante et impossible de s'assoir au chaud.Le marché de Noël se divise en 3 quartiers et beaucoup de marche est à prévoir depuis la gare sncf et les différents points du marché. Le plus intéressant est près de la cathédrale, quoique l'architecture y est spéciale.Point intéressant sont les rues aux maisons à colombages.\", 'rating': 1}, {'origine': 'Paris Est', 'destination': 'Strasbourg', 'page1_link': 'https://www.tripadvisor.fr/ShowUserReviews-g187075-r287480889-Strasbourg_Bas_Rhin_Grand_Est.html#REVIEWS', 'page2_link': 'https://www.tripadvisor.fr/ShowUserReviews-g187075-r86136484-Strasbourg_Bas_Rhin_Grand_Est.html#REVIEWS', 'distance': 450.58, 'train_emissions': 1.3066820000000001, 'scraped_url': 'https://www.tripadvisor.fr/ShowUserReviews-g187075-r287480889-Strasbourg_Bas_Rhin_Grand_Est.html#REVIEWS', 'title': '“Une ville magnifique”', 'review': 'L\\'endroit que j\\'adore et où j\\'ai toujours envie de revenir. En plus j\\'y étais allée plusieurs fois en hiver au moment du célèbre marché de Noël, un évènement grandiose à découvrir au cœur de la ville, autours de la splendide Cathédrale, éclairée la nuit et le spectacle est accompagné de la musique. Chaque année on y découvre de nouveaux pays à travers les produits et les souvenirs que les gens présentent. Le quartier \"Petite France\" est magnifique non seulement pour les balades et gastronomie, mais pour les petits commerces sympa aussi. Visite des canaux en bateaux-mouches est obligatoire, ambiance unique, bars et restos sympa, de la bonne musique et plein d\\'autres choses à faire, aux alentours aussi, La Montagne des Singes à visiter, par exemple', 'rating': 5}, {'origine': 'Paris Est', 'destination': 'Strasbourg', 'page1_link': 'https://www.tripadvisor.fr/ShowUserReviews-g187075-r287480889-Strasbourg_Bas_Rhin_Grand_Est.html#REVIEWS', 'page2_link': 'https://www.tripadvisor.fr/ShowUserReviews-g187075-r86136484-Strasbourg_Bas_Rhin_Grand_Est.html#REVIEWS', 'distance': 450.58, 'train_emissions': 1.3066820000000001, 'scraped_url': 'https://www.tripadvisor.fr/ShowUserReviews-g187075-r86136484-Strasbourg_Bas_Rhin_Grand_Est.html#REVIEWS', 'title': '“petite france”', 'review': 'Malgré de très faibles indications de direction, quand on finit par trouver à se garer, il est bon d\\'oublier sa voiture pour visiter la ville à pied . Il y a le quartier petite france dans lequel il faut traîner et bien sûr la cathédrale mais aussi des tas de petits resto dans lesquels on rivalise pour \"offrir\" une super choucroute ( je n\\'ai pas adoré , ni mes amis,l\\'autre plat traditionnel à base de plusieurs viandes le B...?)à conseiller +++ les bières des brasseries (La blanche légère est un régal)si le séjour est assez long , il faut visiter les villages alentours et faire la route des vins... fameux!', 'rating': 4}, {'origine': 'Paris Est', 'destination': 'Strasbourg', 'page1_link': 'https://www.tripadvisor.fr/ShowUserReviews-g187075-r287480889-Strasbourg_Bas_Rhin_Grand_Est.html#REVIEWS', 'page2_link': 'https://www.tripadvisor.fr/ShowUserReviews-g187075-r86136484-Strasbourg_Bas_Rhin_Grand_Est.html#REVIEWS', 'distance': 450.58, 'train_emissions': 1.3066820000000001, 'scraped_url': 'https://www.tripadvisor.fr/ShowUserReviews-g187075-r86136484-Strasbourg_Bas_Rhin_Grand_Est.html#REVIEWS', 'title': '“A faire!”', 'review': \"A faire pendant la période des marchés de Noël, c'est génial!\", 'rating': 5}, {'origine': 'Paris Est', 'destination': 'Strasbourg', 'page1_link': 'https://www.tripadvisor.fr/ShowUserReviews-g187075-r287480889-Strasbourg_Bas_Rhin_Grand_Est.html#REVIEWS', 'page2_link': 'https://www.tripadvisor.fr/ShowUserReviews-g187075-r86136484-Strasbourg_Bas_Rhin_Grand_Est.html#REVIEWS', 'distance': 450.58, 'train_emissions': 1.3066820000000001, 'scraped_url': 'https://www.tripadvisor.fr/ShowUserReviews-g187075-r86136484-Strasbourg_Bas_Rhin_Grand_Est.html#REVIEWS', 'title': '“la cathedrale vraiment somptieux”', 'review': \"bonjour c la premiere fois que je me rends en france j'ai visiter strasbourg allemagne lyon saint etieene j'ai adorer tout ce que j'ai visiter ca change de la vie que je mene a la reunion je suis tres contente de mon voyage\", 'rating': 5}, {'origine': 'Paris Est', 'destination': 'Strasbourg', 'page1_link': 'https://www.tripadvisor.fr/ShowUserReviews-g187075-r287480889-Strasbourg_Bas_Rhin_Grand_Est.html#REVIEWS', 'page2_link': 'https://www.tripadvisor.fr/ShowUserReviews-g187075-r86136484-Strasbourg_Bas_Rhin_Grand_Est.html#REVIEWS', 'distance': 450.58, 'train_emissions': 1.3066820000000001, 'scraped_url': 'https://www.tripadvisor.fr/ShowUserReviews-g187075-r86136484-Strasbourg_Bas_Rhin_Grand_Est.html#REVIEWS', 'title': '“Coup de coeur francais!!! Une ville polyvalente pour tout age...”', 'review': \"Belle, charmante ville qui combine a la fois MODERNITE et TRADITION tout en preservant la nature!Plutot romantique, bcp de balades a velo, a pieds ou en tram...Peut-etre un tour de bateau-mouche (si porte-feuille le permets) !Les artistes s'y sentiront le mieux! Chacun a son style! Les gens sont TOP, ne semblent pas trops stresser, sont souriants et polis. On croyrais meme qu'il y fait beau toute l'annee vue la bonne humeur qu'ils degagent....mais non pas tjr vue la situation geographique :)Ne manquez surtout pas de gouter aux fameuses recettes traditionnelles alsaciennes et bon vin du terroire! (Flammenkuchen, Pinot Noir & Gewurztraminer)A voir:Les maisons alsaciennes sont simplement splendides et font penser a un monde d'ailleurs!Bcp de petits ponts mignons, un fleuve, des arbres sur le cotee... Gde cathedrale a ne pas rater! CULTURE....culture...( Venir dans la periode hiver pour voir le grand marchee de Noel, qd toutes les rues brillent de mille feux avec des decorations a ne plus savoir ou regarder! Strasbourg a Noel = ville de lumiere! )Pour les sorteurs:La vie nocturne s'y prete bien avec tous les bars et pubs dans le centre et partie moderne...De bonnes chaussures et les yeux bien ouverts ;)Profitez bien!\", 'rating': 5}, {'origine': 'Paris Est', 'destination': 'Strasbourg', 'page1_link': 'https://www.tripadvisor.fr/ShowUserReviews-g187075-r287480889-Strasbourg_Bas_Rhin_Grand_Est.html#REVIEWS', 'page2_link': 'https://www.tripadvisor.fr/ShowUserReviews-g187075-r86136484-Strasbourg_Bas_Rhin_Grand_Est.html#REVIEWS', 'distance': 450.58, 'train_emissions': 1.3066820000000001, 'scraped_url': 'https://www.tripadvisor.fr/ShowUserReviews-g187075-r86136484-Strasbourg_Bas_Rhin_Grand_Est.html#REVIEWS', 'title': \"“Une belle ville de France, capitale de l'Alsace.”\", 'review': \"Une ville dont le centre historique est magnifique, où les époques se côtoient avec charme et intelligence. Une ville active aussi, riche de musées, d'activités économiques et culturelles... les Strasbourgeois aiment sortir! La capitale de l'Alsace est aussi un bon point de départ pour découvrir cette région, riche d'une belle campagne et de la montagne proche. Et vous êtes à la frontière avec l'Allemagne, au milieu de la Vallée du Rhin... et pourquoi pas un saut en Suisse? Bref, pas de quoi s'ennuyer ici!\", 'rating': 4}]\n"
     ]
    }
   ],
   "source": [
    "print(all_reviews)"
   ]
  },
  {
   "cell_type": "markdown",
   "metadata": {},
   "source": [
    "## CSV generation"
   ]
  },
  {
   "cell_type": "markdown",
   "metadata": {},
   "source": [
    "### Non-aggregated CSV"
   ]
  },
  {
   "cell_type": "code",
   "execution_count": 64,
   "metadata": {},
   "outputs": [],
   "source": [
    "# Save non-aggregated reviews to CSV\n",
    "non_aggregated_csv = 'non_aggregated_emissions_and_reviews.csv'\n",
    "reviews_df = pd.DataFrame(all_reviews)\n",
    "reviews_df.to_csv(non_aggregated_csv, index=False, encoding='utf-8')"
   ]
  },
  {
   "cell_type": "markdown",
   "metadata": {},
   "source": [
    "### Aggregated CSV"
   ]
  },
  {
   "cell_type": "code",
   "execution_count": 65,
   "metadata": {},
   "outputs": [],
   "source": [
    "# Aggregate Reviews\n",
    "aggregated_reviews = reviews_df.groupby('destination').agg(\n",
    "    scraped_url=('scraped_url', 'first'),\n",
    "    titles=('title', lambda x: ' || '.join(x.dropna().astype(str))),\n",
    "    reviews=('review', lambda x: ' || '.join(x.dropna().astype(str))),\n",
    "    average_rating=('rating', 'mean')\n",
    ").reset_index()\n",
    "\n",
    "# Merge with Emissions Data\n",
    "emissions_df = pd.DataFrame(results)\n",
    "merged_df = pd.merge(emissions_df, aggregated_reviews, how='left', on='destination')\n",
    "\n",
    "# Final Aggregated CSV\n",
    "output_csv = 'final_emissions_reviews.csv'\n",
    "merged_df.to_csv(output_csv, index=False, encoding='utf-8')\n",
    "\n",
    "# Final Aggregated CSV\n",
    "output_csv = 'aggregated_emissions_and_reviews.csv'\n",
    "merged_df.to_csv(output_csv, index=False, encoding='utf-8')"
   ]
  }
 ],
 "metadata": {
  "kernelspec": {
   "display_name": "Python 3",
   "language": "python",
   "name": "python3"
  },
  "language_info": {
   "codemirror_mode": {
    "name": "ipython",
    "version": 3
   },
   "file_extension": ".py",
   "mimetype": "text/x-python",
   "name": "python",
   "nbconvert_exporter": "python",
   "pygments_lexer": "ipython3",
   "version": "3.11.7"
  }
 },
 "nbformat": 4,
 "nbformat_minor": 2
}
