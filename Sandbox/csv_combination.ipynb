{
 "cells": [
  {
   "cell_type": "markdown",
   "metadata": {},
   "source": [
    "# Merging the csv files with the API information and the concatenated web scraped reviews"
   ]
  },
  {
   "cell_type": "code",
   "execution_count": 1,
   "metadata": {},
   "outputs": [
    {
     "name": "stdout",
     "output_type": "stream",
     "text": [
      "Merged CSV saved as 'emissions_with_reviews.csv'\n"
     ]
    }
   ],
   "source": [
    "import pandas as pd\n",
    "\n",
    "# Load the emissions CSV (created with the API data)\n",
    "emissions_csv = 'filtered_emissions_with_links.csv'\n",
    "emissions_df = pd.read_csv(emissions_csv)\n",
    "\n",
    "# Load the reviews CSV (provided with review data)\n",
    "reviews_csv = 'tripadvisor_reviews_automated.csv'  # Replace with your filename\n",
    "reviews_df = pd.read_csv(reviews_csv, delimiter=';')\n",
    "\n",
    "# Aggregate reviews data\n",
    "aggregated_reviews = reviews_df.groupby('Destination').agg(\n",
    "    reviews=('Content', lambda x: ' || '.join(x.dropna().astype(str))),  # Concatenate reviews with ' || ' separator\n",
    "    average_rating=('Rating', 'mean')  # Compute average rating\n",
    ").reset_index()\n",
    "\n",
    "# Merge the emissions data with the aggregated reviews based on 'Destination'\n",
    "merged_df = pd.merge(emissions_df, aggregated_reviews, how='left', left_on='destination', right_on='Destination')\n",
    "\n",
    "# Drop the extra 'Destination' column from the reviews CSV\n",
    "merged_df.drop(columns=['Destination'], inplace=True)\n",
    "\n",
    "# Save the merged result to a new CSV file\n",
    "output_csv = 'emissions_with_reviews.csv'\n",
    "merged_df.to_csv(output_csv, index=False, encoding='utf-8')\n",
    "\n",
    "print(f\"Merged CSV saved as '{output_csv}'\")"
   ]
  }
 ],
 "metadata": {
  "kernelspec": {
   "display_name": "Python 3",
   "language": "python",
   "name": "python3"
  },
  "language_info": {
   "codemirror_mode": {
    "name": "ipython",
    "version": 3
   },
   "file_extension": ".py",
   "mimetype": "text/x-python",
   "name": "python",
   "nbconvert_exporter": "python",
   "pygments_lexer": "ipython3",
   "version": "3.11.7"
  }
 },
 "nbformat": 4,
 "nbformat_minor": 2
}
