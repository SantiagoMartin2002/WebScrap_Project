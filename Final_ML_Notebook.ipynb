{
 "cells": [
  {
   "cell_type": "markdown",
   "metadata": {},
   "source": [
    "# Web scraping project - Complete Machine Learning Notebook\n",
    "### **Léo RINGEISSEN & Santiago MARTIN - DIA 3**"
   ]
  },
  {
   "cell_type": "markdown",
   "metadata": {},
   "source": [
    "**This notebook follows the work we did in the previous API and Webscraping notebook :**\n",
    "\n",
    "In our last submission, we demonstrated how we accessed an SNCF dataset API and webscraped TripAdvisor reviews to produce a dataset containing reviews and emissions data for a variety of travel destinations available by train from Paris.\n",
    "\n",
    "The text underneath details the adjustments in scope made during the process of producing our dataset.\n",
    "\n",
    "**Adjustments to the project scope :**\n",
    "\n",
    "We've learned over the course of this work that a typical method used by companies to prevent bots from illegally scraping their web pages is to deliberately complicate the repetitive tasks a bot would do. \n",
    "\n",
    "An example of this is having inconsistent page scrolling, where going to page 2 from page 3 won't be the same as if you'd gone from page 1. Another example is not having simple logic between the URLs of different pages. There are also dynamic elements like text translations that do not get retrieved in the initial soup provided by Selenium.\n",
    "\n",
    "We initially thought that these were merely poor implementations from TripAdvisor, but we now understand that these inefficiencies are deliberate to prevent any automated web scraping processes from taking place, we can therefore not bypass most of these issues without partnering with or paying TripAdvisor to access their data.\n",
    "\n",
    "As a result of these limitations, as well as data limitations on the end of the contents of the SNCF API, we've reduced the scope of our project to only trips by train whose origin is Paris and whose destination has a page with sufficient reviews in French on TripAdvisor. In addition, many destinations didn't have review pages at all, so we took the reviews of that destination's most iconic landmark, which would serve as an adequate substitution.\n",
    "\n",
    "**Data quality and project scalability :**\n",
    "\n",
    "With these adjustments to the project scope, we end up working with around a third (36) of the itineraries accessible with the API (119), and half of the itineraries whose origin is Paris (75), which still leaves with ample room to make fun and ecological travel recommendations based on traveler preferences and ecological goals, which was the objective we set out to achieve with this project.\n",
    "\n",
    "Since we couldn't scroll through review pages without being thrown out for bot detection, we resolved the issue by manually selecting the URLs to the first and second review pages (if a second review page is even available). We recognize that this solution would not be scalable for a project with bigger scope, as with more desintations and review pages it would require a lot of manual labor to copy all of the URLs by hand. Fortunately, for the goals of this project which are to learn to web scrape data and utilize it for Machine Learning applications, this is not a concern and we can still move forward with our project.\n",
    "\n",
    "Using automated google engine searches to automatically find URLs was not a viable option too, as the google search engine results are also made difficult to use via a bot, and we still would have to manually monitor the quality of the first urls yielded by our bot, so it would need more complex and powerful libraries than selenium to be crate a more scalable solution.\n",
    "\n",
    "**Final CSV generation :**\n",
    "\n",
    "By the end of the dataset production notebook we generate an aggregated and a non-aggregated CSV file containing our API and web scraped data. The columns are origin, destination, links for first and second review pages, distance between origin and destination, train trip carbon emissions, the scraped URL (only in the non-aggregated file), the review title (concatenated in the aggregated file), the review content (concatenated in the aggregated file), and the review rating (averaged in the aggregated file)."
   ]
  },
  {
   "cell_type": "markdown",
   "metadata": {},
   "source": [
    "# Importing and exploring our produced dataset"
   ]
  },
  {
   "cell_type": "code",
   "execution_count": 2,
   "metadata": {},
   "outputs": [
    {
     "name": "stdout",
     "output_type": "stream",
     "text": [
      "(36, 9)\n",
      "origine             object\n",
      "destination         object\n",
      "page1_link          object\n",
      "page2_link          object\n",
      "distance           float64\n",
      "train_emissions    float64\n",
      "titles              object\n",
      "reviews             object\n",
      "average_rating     float64\n",
      "dtype: object\n",
      "origine             0\n",
      "destination         0\n",
      "page1_link          0\n",
      "page2_link         22\n",
      "distance            0\n",
      "train_emissions     0\n",
      "titles              0\n",
      "reviews             0\n",
      "average_rating      0\n",
      "dtype: int64\n"
     ]
    },
    {
     "data": {
      "text/html": [
       "<div>\n",
       "<style scoped>\n",
       "    .dataframe tbody tr th:only-of-type {\n",
       "        vertical-align: middle;\n",
       "    }\n",
       "\n",
       "    .dataframe tbody tr th {\n",
       "        vertical-align: top;\n",
       "    }\n",
       "\n",
       "    .dataframe thead th {\n",
       "        text-align: right;\n",
       "    }\n",
       "</style>\n",
       "<table border=\"1\" class=\"dataframe\">\n",
       "  <thead>\n",
       "    <tr style=\"text-align: right;\">\n",
       "      <th></th>\n",
       "      <th>origine</th>\n",
       "      <th>destination</th>\n",
       "      <th>page1_link</th>\n",
       "      <th>page2_link</th>\n",
       "      <th>distance</th>\n",
       "      <th>train_emissions</th>\n",
       "      <th>titles</th>\n",
       "      <th>reviews</th>\n",
       "      <th>average_rating</th>\n",
       "    </tr>\n",
       "  </thead>\n",
       "  <tbody>\n",
       "    <tr>\n",
       "      <th>0</th>\n",
       "      <td>Paris Gare de Lyon</td>\n",
       "      <td>Annecy</td>\n",
       "      <td>https://www.tripadvisor.fr/ShowUserReviews-g18...</td>\n",
       "      <td>https://www.tripadvisor.fr/ShowUserReviews-g18...</td>\n",
       "      <td>545.00</td>\n",
       "      <td>1.580500</td>\n",
       "      <td>“Annecyyyy...!!! Quand tu nous tiens..!!!” || ...</td>\n",
       "      <td>Vtt sur le Semnoz, pédalo sur le lac, promenad...</td>\n",
       "      <td>4.400000</td>\n",
       "    </tr>\n",
       "    <tr>\n",
       "      <th>1</th>\n",
       "      <td>Paris Gare de Lyon</td>\n",
       "      <td>Zuerich HB</td>\n",
       "      <td>https://www.tripadvisor.fr/ShowUserReviews-g18...</td>\n",
       "      <td>NaN</td>\n",
       "      <td>614.00</td>\n",
       "      <td>2.087600</td>\n",
       "      <td>“Zurich le temps d'un weekend”</td>\n",
       "      <td>Une ville riche et agréable ou le centre histo...</td>\n",
       "      <td>5.000000</td>\n",
       "    </tr>\n",
       "    <tr>\n",
       "      <th>2</th>\n",
       "      <td>Paris Saint-Lazare</td>\n",
       "      <td>Rouen Rive Droite</td>\n",
       "      <td>https://www.tripadvisor.fr/ShowUserReviews-g18...</td>\n",
       "      <td>https://www.tripadvisor.fr/ShowUserReviews-g18...</td>\n",
       "      <td>139.00</td>\n",
       "      <td>3.391600</td>\n",
       "      <td>“la cathédrale est de plus en plus belle!” || ...</td>\n",
       "      <td>il faisait un temps moyen,mais le poissonnier ...</td>\n",
       "      <td>4.142857</td>\n",
       "    </tr>\n",
       "    <tr>\n",
       "      <th>3</th>\n",
       "      <td>Paris Montparnasse</td>\n",
       "      <td>La Rochelle</td>\n",
       "      <td>https://www.tripadvisor.fr/ShowUserReviews-g18...</td>\n",
       "      <td>NaN</td>\n",
       "      <td>460.00</td>\n",
       "      <td>1.334000</td>\n",
       "      <td>la mentalité à revoir || Charmant || Plaisant ...</td>\n",
       "      <td>les employés dans les magasins au centre de la...</td>\n",
       "      <td>4.333333</td>\n",
       "    </tr>\n",
       "    <tr>\n",
       "      <th>4</th>\n",
       "      <td>Paris Gare de Lyon</td>\n",
       "      <td>Grenoble</td>\n",
       "      <td>https://www.tripadvisor.fr/ShowUserReviews-g18...</td>\n",
       "      <td>NaN</td>\n",
       "      <td>556.09</td>\n",
       "      <td>1.612661</td>\n",
       "      <td>“Ma ville” || “ville etudiante et sky”</td>\n",
       "      <td>Au coeur des montagnes, hiver comme été, Greno...</td>\n",
       "      <td>4.000000</td>\n",
       "    </tr>\n",
       "  </tbody>\n",
       "</table>\n",
       "</div>"
      ],
      "text/plain": [
       "              origine        destination  \\\n",
       "0  Paris Gare de Lyon             Annecy   \n",
       "1  Paris Gare de Lyon         Zuerich HB   \n",
       "2  Paris Saint-Lazare  Rouen Rive Droite   \n",
       "3  Paris Montparnasse        La Rochelle   \n",
       "4  Paris Gare de Lyon           Grenoble   \n",
       "\n",
       "                                          page1_link  \\\n",
       "0  https://www.tripadvisor.fr/ShowUserReviews-g18...   \n",
       "1  https://www.tripadvisor.fr/ShowUserReviews-g18...   \n",
       "2  https://www.tripadvisor.fr/ShowUserReviews-g18...   \n",
       "3  https://www.tripadvisor.fr/ShowUserReviews-g18...   \n",
       "4  https://www.tripadvisor.fr/ShowUserReviews-g18...   \n",
       "\n",
       "                                          page2_link  distance  \\\n",
       "0  https://www.tripadvisor.fr/ShowUserReviews-g18...    545.00   \n",
       "1                                                NaN    614.00   \n",
       "2  https://www.tripadvisor.fr/ShowUserReviews-g18...    139.00   \n",
       "3                                                NaN    460.00   \n",
       "4                                                NaN    556.09   \n",
       "\n",
       "   train_emissions                                             titles  \\\n",
       "0         1.580500  “Annecyyyy...!!! Quand tu nous tiens..!!!” || ...   \n",
       "1         2.087600                     “Zurich le temps d'un weekend”   \n",
       "2         3.391600  “la cathédrale est de plus en plus belle!” || ...   \n",
       "3         1.334000  la mentalité à revoir || Charmant || Plaisant ...   \n",
       "4         1.612661             “Ma ville” || “ville etudiante et sky”   \n",
       "\n",
       "                                             reviews  average_rating  \n",
       "0  Vtt sur le Semnoz, pédalo sur le lac, promenad...        4.400000  \n",
       "1  Une ville riche et agréable ou le centre histo...        5.000000  \n",
       "2  il faisait un temps moyen,mais le poissonnier ...        4.142857  \n",
       "3  les employés dans les magasins au centre de la...        4.333333  \n",
       "4  Au coeur des montagnes, hiver comme été, Greno...        4.000000  "
      ]
     },
     "metadata": {},
     "output_type": "display_data"
    }
   ],
   "source": [
    "import pandas as pd\n",
    "\n",
    "agg_df = pd.read_csv('aggregated_emissions_and_reviews.csv', sep=',')\n",
    "print(agg_df.shape)\n",
    "print(agg_df.dtypes)\n",
    "print(agg_df.isnull().sum())\n",
    "display(agg_df.head())"
   ]
  },
  {
   "cell_type": "markdown",
   "metadata": {},
   "source": [
    "# Data Cleaning and Preprocessing"
   ]
  },
  {
   "cell_type": "code",
   "execution_count": 3,
   "metadata": {},
   "outputs": [
    {
     "data": {
      "text/html": [
       "<div>\n",
       "<style scoped>\n",
       "    .dataframe tbody tr th:only-of-type {\n",
       "        vertical-align: middle;\n",
       "    }\n",
       "\n",
       "    .dataframe tbody tr th {\n",
       "        vertical-align: top;\n",
       "    }\n",
       "\n",
       "    .dataframe thead th {\n",
       "        text-align: right;\n",
       "    }\n",
       "</style>\n",
       "<table border=\"1\" class=\"dataframe\">\n",
       "  <thead>\n",
       "    <tr style=\"text-align: right;\">\n",
       "      <th></th>\n",
       "      <th>destination</th>\n",
       "      <th>distance</th>\n",
       "      <th>train_emissions</th>\n",
       "      <th>reviews</th>\n",
       "      <th>average_rating</th>\n",
       "    </tr>\n",
       "  </thead>\n",
       "  <tbody>\n",
       "    <tr>\n",
       "      <th>0</th>\n",
       "      <td>Annecy</td>\n",
       "      <td>545.00</td>\n",
       "      <td>1.580500</td>\n",
       "      <td>Vtt sur le Semnoz, pédalo sur le lac, promenad...</td>\n",
       "      <td>4.400000</td>\n",
       "    </tr>\n",
       "    <tr>\n",
       "      <th>1</th>\n",
       "      <td>Zuerich HB</td>\n",
       "      <td>614.00</td>\n",
       "      <td>2.087600</td>\n",
       "      <td>Une ville riche et agréable ou le centre histo...</td>\n",
       "      <td>5.000000</td>\n",
       "    </tr>\n",
       "    <tr>\n",
       "      <th>2</th>\n",
       "      <td>Rouen Rive Droite</td>\n",
       "      <td>139.00</td>\n",
       "      <td>3.391600</td>\n",
       "      <td>il faisait un temps moyen,mais le poissonnier ...</td>\n",
       "      <td>4.142857</td>\n",
       "    </tr>\n",
       "    <tr>\n",
       "      <th>3</th>\n",
       "      <td>La Rochelle</td>\n",
       "      <td>460.00</td>\n",
       "      <td>1.334000</td>\n",
       "      <td>les employés dans les magasins au centre de la...</td>\n",
       "      <td>4.333333</td>\n",
       "    </tr>\n",
       "    <tr>\n",
       "      <th>4</th>\n",
       "      <td>Grenoble</td>\n",
       "      <td>556.09</td>\n",
       "      <td>1.612661</td>\n",
       "      <td>Au coeur des montagnes, hiver comme été, Greno...</td>\n",
       "      <td>4.000000</td>\n",
       "    </tr>\n",
       "  </tbody>\n",
       "</table>\n",
       "</div>"
      ],
      "text/plain": [
       "         destination  distance  train_emissions  \\\n",
       "0             Annecy    545.00         1.580500   \n",
       "1         Zuerich HB    614.00         2.087600   \n",
       "2  Rouen Rive Droite    139.00         3.391600   \n",
       "3        La Rochelle    460.00         1.334000   \n",
       "4           Grenoble    556.09         1.612661   \n",
       "\n",
       "                                             reviews  average_rating  \n",
       "0  Vtt sur le Semnoz, pédalo sur le lac, promenad...        4.400000  \n",
       "1  Une ville riche et agréable ou le centre histo...        5.000000  \n",
       "2  il faisait un temps moyen,mais le poissonnier ...        4.142857  \n",
       "3  les employés dans les magasins au centre de la...        4.333333  \n",
       "4  Au coeur des montagnes, hiver comme été, Greno...        4.000000  "
      ]
     },
     "metadata": {},
     "output_type": "display_data"
    }
   ],
   "source": [
    "agg_df.drop(columns=['origine','page1_link', 'page2_link', 'titles'], inplace=True)\n",
    "display(agg_df.head())"
   ]
  },
  {
   "cell_type": "code",
   "execution_count": 4,
   "metadata": {},
   "outputs": [
    {
     "name": "stderr",
     "output_type": "stream",
     "text": [
      "[nltk_data] Downloading package punkt to\n",
      "[nltk_data]     C:\\Users\\ringi_3xz04z7\\AppData\\Roaming\\nltk_data...\n",
      "[nltk_data]   Package punkt is already up-to-date!\n",
      "[nltk_data] Downloading package stopwords to\n",
      "[nltk_data]     C:\\Users\\ringi_3xz04z7\\AppData\\Roaming\\nltk_data...\n",
      "[nltk_data]   Package stopwords is already up-to-date!\n"
     ]
    }
   ],
   "source": [
    "import nltk\n",
    "from nltk.tokenize import RegexpTokenizer\n",
    "from nltk.stem import WordNetLemmatizer\n",
    "from nltk.corpus import stopwords\n",
    "nltk.download('punkt')\n",
    "nltk.download('stopwords')\n",
    "stopwords = set(stopwords.words('french')) \n",
    "\n",
    "def clean_text(text):\n",
    "    text = text.lower()\n",
    "    regex_tokenizer = RegexpTokenizer('\\w\\w+')\n",
    "    text = regex_tokenizer.tokenize(text)\n",
    "    text = [word for word in text if word not in stopwords]\n",
    "    lemma = WordNetLemmatizer()\n",
    "    text = [lemma.lemmatize(word) for word in text]\n",
    "    text = ' '.join(text)\n",
    "    return text"
   ]
  },
  {
   "cell_type": "code",
   "execution_count": 5,
   "metadata": {},
   "outputs": [
    {
     "name": "stdout",
     "output_type": "stream",
     "text": [
      "Vtt sur le Semnoz, pédalo sur le lac, promenade au bord de l'eau (superbe), l'ambiance de la vielle ville, pti resto super sympa... vraiment vraiment bien.... I love Annecy .... :-) || ville magnifique avec beaucoup de charme quand je vais a annecy j ai l impresssion de ne plus etre en francepas mal de choses a visiter notamment les gorges du fier non loin du centre balade en bateau sur le lac vieille ville typiqueet de tres bons restaurants mais aussi un joli marche le dimanche || Cet endroit est exceptionnel c'est d'ailleurs pour cela que plusieurs personnes traversent la France pour venir apprécier ce lac.Surtout agréable en été avec ses différentes animations dansantes ou artistiques.Lieu de convivialité pour aussi bien se balader, se poser sur la pelouse ou bien faire du pédalo l'été pour pouvoir explorer les différents horizons du lac et ses verdures. || Vous pouvez y trouver tout: les montagnes pour les randonnées, le lac avec de l'eau transparente pour se baigner et les rues anciennes, plein de bâtiments splendides..... || Destination idéale pour ceux qui aiment la baignade (eau du lac excellente et de tres bonne qualité), et la montagne (randonnées de tous niveaux).Cadre magnifique pour passer de tres bonnes vacances || Mai 2010, besoin de vacances et de dépaysement à petit prix urgent.Je propose donc à mon cher et tendre une virée romantique d'une semaine en Haute-Savoie. Je connaissais la région pour y être aller petite avec mes grand-parents,Nous partons donc sur Internet à la recherche d'un gîte à proximité d'Annecy. Après plusieurs jours de recherche nous trouvons une annonce sur \"le bon coin\", 250 € la semaine pour un P2 à Villard-Dessous(commune de Manigod).Arrivé sur place le spectacle nous laisse sans voix, le paysage est fabuleux, les montagnes face à nous enneigées.Nous avons profiter de notre semaine pour visiter Annecy, faire une ballade en bateau sur le Lac d'Annecy, aller dans une crémerie acheter le nécessaire pour la fondue savoyarde, visiter le Museùm de Genève (1 heure de route), voir le Lac Léman, visiter Yvoire qui est un magnifique petit village médiéval et piéton ! . Nous avons été voir la cascade du Rouget, dite la Reine des Alpes ou nous avons été arrosé d'embruns, visiter La gorge du pont du diable. et encore beaucoup de promenade et marché dans les villages au abord d'annecy. C'est une très belle région que nous conseillons à tous, petit et grand. Il y a de nombreuses activités pour tous les budgets, notre semain nous est revenu à environ 600 €, sorties, essence, péage, nourriture, location gîte compris.Une des choses que nous regrettons : ne pas avoir vu les marmottes !A noter aussi que si vous aimez visiter il faudra rouler. || cette ville m'enchante depuis une dizaine d'annéestant par son tourisme que par ses habitantscette ville est le reflet parfait de mes vacancesj'ai besoin d'y aller au moins une fois par an pour me resourcer || magnifique ville, des activités pour tous: proximité des stations de skis, activités nautiques l'été, une ville culturelle et historique magnifique, et un large choix de shopping!!Note spéciale pour le restaurant le \"20/Vins\" dans la vieille ville (passage Golliardi) , une formule originale pour déguster un large choix de bons vins et des plats diversifiés: du risotto au couscous en passant par la souris d'agneau ou bien un Mont d'or!! en prime, une déco moderne cosy et raffinée! || Ville très agréable.Pour une promenade sur le lac, il est possible de louer pédalos et autres bateaux avec ou sans moteur, malheureusement une entente sur les prix fausse totalement la concurrence.La ville a décidé de faire les poches des visiteurs grâce au tarif prohibitif des parkings municipaux.La ville s'avère tout à fait adaptée aux personnes âgées ou couples sans enfant(s). || une jolie ville,entourée de belles montagnes avec un lac magnifique.par contre une trés mauvaise mentalité,un trés mauvais accueille,avec un grand nombre de restaurants \"piege a touriste\" ,les prix sont carrement abusifs et les plats plus que médiocres .les habitants sont froid,sans intéréts,rustres et vraiment mal polies.ils n'ont aucun savoir vivre.ils ne sont absolument pas souriant(méme dans les commerces!).je n'y remettrais plus jamais les pieds.a éviter pour toute personne désirant profité de bonnes vacances.\n",
      "['Vtt', 'sur', 'le', 'Semnoz,', 'pédalo', 'sur', 'le', 'lac,', 'promenade', 'au', 'bord', 'de', \"l'eau\", '(superbe),', \"l'ambiance\", 'de', 'la', 'vielle', 'ville,', 'pti', 'resto', 'super', 'sympa...', 'vraiment', 'vraiment', 'bien....', 'I', 'love', 'Annecy', '....', ':-)', '||', 'ville', 'magnifique', 'avec', 'beaucoup', 'de', 'charme', 'quand', 'je', 'vais', 'a', 'annecy', 'j', 'ai', 'l', 'impresssion', 'de', 'ne', 'plus', 'etre', 'en', 'francepas', 'mal', 'de', 'choses', 'a', 'visiter', 'notamment', 'les', 'gorges', 'du', 'fier', 'non', 'loin', 'du', 'centre', 'balade', 'en', 'bateau', 'sur', 'le', 'lac', 'vieille', 'ville', 'typiqueet', 'de', 'tres', 'bons', 'restaurants', 'mais', 'aussi', 'un', 'joli', 'marche', 'le', 'dimanche', '||', 'Cet', 'endroit', 'est', 'exceptionnel', \"c'est\", \"d'ailleurs\", 'pour', 'cela', 'que', 'plusieurs', 'personnes', 'traversent', 'la', 'France', 'pour', 'venir', 'apprécier', 'ce', 'lac.Surtout', 'agréable', 'en', 'été', 'avec', 'ses', 'différentes', 'animations', 'dansantes', 'ou', 'artistiques.Lieu', 'de', 'convivialité', 'pour', 'aussi', 'bien', 'se', 'balader,', 'se', 'poser', 'sur', 'la', 'pelouse', 'ou', 'bien', 'faire', 'du', 'pédalo', \"l'été\", 'pour', 'pouvoir', 'explorer', 'les', 'différents', 'horizons', 'du', 'lac', 'et', 'ses', 'verdures.', '||', 'Vous', 'pouvez', 'y', 'trouver', 'tout:', 'les', 'montagnes', 'pour', 'les', 'randonnées,', 'le', 'lac', 'avec', 'de', \"l'eau\", 'transparente', 'pour', 'se', 'baigner', 'et', 'les', 'rues', 'anciennes,', 'plein', 'de', 'bâtiments', 'splendides.....', '||', 'Destination', 'idéale', 'pour', 'ceux', 'qui', 'aiment', 'la', 'baignade', '(eau', 'du', 'lac', 'excellente', 'et', 'de', 'tres', 'bonne', 'qualité),', 'et', 'la', 'montagne', '(randonnées', 'de', 'tous', 'niveaux).Cadre', 'magnifique', 'pour', 'passer', 'de', 'tres', 'bonnes', 'vacances', '||', 'Mai', '2010,', 'besoin', 'de', 'vacances', 'et', 'de', 'dépaysement', 'à', 'petit', 'prix', 'urgent.Je', 'propose', 'donc', 'à', 'mon', 'cher', 'et', 'tendre', 'une', 'virée', 'romantique', \"d'une\", 'semaine', 'en', 'Haute-Savoie.', 'Je', 'connaissais', 'la', 'région', 'pour', 'y', 'être', 'aller', 'petite', 'avec', 'mes', 'grand-parents,Nous', 'partons', 'donc', 'sur', 'Internet', 'à', 'la', 'recherche', \"d'un\", 'gîte', 'à', 'proximité', \"d'Annecy.\", 'Après', 'plusieurs', 'jours', 'de', 'recherche', 'nous', 'trouvons', 'une', 'annonce', 'sur', '\"le', 'bon', 'coin\",', '250', '€', 'la', 'semaine', 'pour', 'un', 'P2', 'à', 'Villard-Dessous(commune', 'de', 'Manigod).Arrivé', 'sur', 'place', 'le', 'spectacle', 'nous', 'laisse', 'sans', 'voix,', 'le', 'paysage', 'est', 'fabuleux,', 'les', 'montagnes', 'face', 'à', 'nous', 'enneigées.Nous', 'avons', 'profiter', 'de', 'notre', 'semaine', 'pour', 'visiter', 'Annecy,', 'faire', 'une', 'ballade', 'en', 'bateau', 'sur', 'le', 'Lac', \"d'Annecy,\", 'aller', 'dans', 'une', 'crémerie', 'acheter', 'le', 'nécessaire', 'pour', 'la', 'fondue', 'savoyarde,', 'visiter', 'le', 'Museùm', 'de', 'Genève', '(1', 'heure', 'de', 'route),', 'voir', 'le', 'Lac', 'Léman,', 'visiter', 'Yvoire', 'qui', 'est', 'un', 'magnifique', 'petit', 'village', 'médiéval', 'et', 'piéton', '!', '.', 'Nous', 'avons', 'été', 'voir', 'la', 'cascade', 'du', 'Rouget,', 'dite', 'la', 'Reine', 'des', 'Alpes', 'ou', 'nous', 'avons', 'été', 'arrosé', \"d'embruns,\", 'visiter', 'La', 'gorge', 'du', 'pont', 'du', 'diable.', 'et', 'encore', 'beaucoup', 'de', 'promenade', 'et', 'marché', 'dans', 'les', 'villages', 'au', 'abord', \"d'annecy.\", \"C'est\", 'une', 'très', 'belle', 'région', 'que', 'nous', 'conseillons', 'à', 'tous,', 'petit', 'et', 'grand.', 'Il', 'y', 'a', 'de', 'nombreuses', 'activités', 'pour', 'tous', 'les', 'budgets,', 'notre', 'semain', 'nous', 'est', 'revenu', 'à', 'environ', '600', '€,', 'sorties,', 'essence,', 'péage,', 'nourriture,', 'location', 'gîte', 'compris.Une', 'des', 'choses', 'que', 'nous', 'regrettons', ':', 'ne', 'pas', 'avoir', 'vu', 'les', 'marmottes', '!A', 'noter', 'aussi', 'que', 'si', 'vous', 'aimez', 'visiter', 'il', 'faudra', 'rouler.', '||', 'cette', 'ville', \"m'enchante\", 'depuis', 'une', 'dizaine', \"d'annéestant\", 'par', 'son', 'tourisme', 'que', 'par', 'ses', 'habitantscette', 'ville', 'est', 'le', 'reflet', 'parfait', 'de', 'mes', \"vacancesj'ai\", 'besoin', \"d'y\", 'aller', 'au', 'moins', 'une', 'fois', 'par', 'an', 'pour', 'me', 'resourcer', '||', 'magnifique', 'ville,', 'des', 'activités', 'pour', 'tous:', 'proximité', 'des', 'stations', 'de', 'skis,', 'activités', 'nautiques', \"l'été,\", 'une', 'ville', 'culturelle', 'et', 'historique', 'magnifique,', 'et', 'un', 'large', 'choix', 'de', 'shopping!!Note', 'spéciale', 'pour', 'le', 'restaurant', 'le', '\"20/Vins\"', 'dans', 'la', 'vieille', 'ville', '(passage', 'Golliardi)', ',', 'une', 'formule', 'originale', 'pour', 'déguster', 'un', 'large', 'choix', 'de', 'bons', 'vins', 'et', 'des', 'plats', 'diversifiés:', 'du', 'risotto', 'au', 'couscous', 'en', 'passant', 'par', 'la', 'souris', \"d'agneau\", 'ou', 'bien', 'un', 'Mont', \"d'or!!\", 'en', 'prime,', 'une', 'déco', 'moderne', 'cosy', 'et', 'raffinée!', '||', 'Ville', 'très', 'agréable.Pour', 'une', 'promenade', 'sur', 'le', 'lac,', 'il', 'est', 'possible', 'de', 'louer', 'pédalos', 'et', 'autres', 'bateaux', 'avec', 'ou', 'sans', 'moteur,', 'malheureusement', 'une', 'entente', 'sur', 'les', 'prix', 'fausse', 'totalement', 'la', 'concurrence.La', 'ville', 'a', 'décidé', 'de', 'faire', 'les', 'poches', 'des', 'visiteurs', 'grâce', 'au', 'tarif', 'prohibitif', 'des', 'parkings', 'municipaux.La', 'ville', \"s'avère\", 'tout', 'à', 'fait', 'adaptée', 'aux', 'personnes', 'âgées', 'ou', 'couples', 'sans', 'enfant(s).', '||', 'une', 'jolie', 'ville,entourée', 'de', 'belles', 'montagnes', 'avec', 'un', 'lac', 'magnifique.par', 'contre', 'une', 'trés', 'mauvaise', 'mentalité,un', 'trés', 'mauvais', 'accueille,avec', 'un', 'grand', 'nombre', 'de', 'restaurants', '\"piege', 'a', 'touriste\"', ',les', 'prix', 'sont', 'carrement', 'abusifs', 'et', 'les', 'plats', 'plus', 'que', 'médiocres', '.les', 'habitants', 'sont', 'froid,sans', 'intéréts,rustres', 'et', 'vraiment', 'mal', 'polies.ils', \"n'ont\", 'aucun', 'savoir', 'vivre.ils', 'ne', 'sont', 'absolument', 'pas', 'souriant(méme', 'dans', 'les', 'commerces!).je', \"n'y\", 'remettrais', 'plus', 'jamais', 'les', 'pieds.a', 'éviter', 'pour', 'toute', 'personne', 'désirant', 'profité', 'de', 'bonnes', 'vacances.']\n",
      "vtt semnoz pédalo lac promenade bord eau superbe ambiance vielle ville pti resto super sympa vraiment vraiment bien love annecy ville magnifique beaucoup charme quand vais annecy impresssion plus etre francepas mal choses visiter notamment gorge fier non loin centre balade bateau lac vieille ville typiqueet tres bons restaurant aussi joli marche dimanche cet endroit exceptionnel ailleurs cela plusieurs personnes traversent france venir apprécier lac surtout agréable différentes animation dansantes artistiques lieu convivialité aussi bien balader poser pelouse bien faire pédalo pouvoir explorer différents horizon lac verdure pouvez trouver tout montagnes randonnées lac eau transparente baigner rue anciennes plein bâtiments splendides destination idéale ceux aiment baignade eau lac excellente tres bonne qualité montagne randonnées tous niveaux cadre magnifique passer tres bonnes vacances mai 2010 besoin vacances dépaysement petit prix urgent propose donc cher tendre virée romantique semaine haute savoie connaissais région être aller petite grand parent partons donc internet recherche gîte proximité annecy après plusieurs jours recherche trouvons annonce bon coin 250 semaine p2 villard dessous commune manigod arrivé place spectacle laisse sans voix paysage fabuleux montagnes face enneigées profiter semaine visiter annecy faire ballade bateau lac annecy aller crémerie acheter nécessaire fondue savoyarde visiter museùm genève heure route voir lac léman visiter yvoire magnifique petit village médiéval piéton voir cascade rouget dite reine alpes arrosé embruns visiter gorge pont diable encore beaucoup promenade marché village abord annecy très belle région conseillons tous petit grand nombreuses activités tous budget semain revenu environ 600 sortie essence péage nourriture location gîte compris choses regrettons avoir vu marmottes noter aussi si aimez visiter faudra rouler cette ville enchante depuis dizaine annéestant tourisme habitantscette ville reflet parfait vacancesj besoin aller moins fois an resourcer magnifique ville activités tous proximité station ski activités nautiques ville culturelle historique magnifique large choix shopping note spéciale restaurant 20 vins vieille ville passage golliardi formule originale déguster large choix bons vins plat diversifiés risotto couscous passant souris agneau bien mont or prime déco moderne cosy raffinée ville très agréable promenade lac possible louer pédalos autres bateaux sans moteur malheureusement entente prix fausse totalement concurrence ville décidé faire poches visiteurs grâce tarif prohibitif parking municipaux ville avère tout fait adaptée personnes âgées couple sans enfant jolie ville entourée belle montagnes lac magnifique contre trés mauvaise mentalité trés mauvais accueille grand nombre restaurant piege touriste prix carrement abusifs plat plus médiocres habitant froid sans intéréts rustres vraiment mal polies aucun savoir vivre absolument souriant méme commerce remettrais plus jamais pieds éviter toute personne désirant profité bonnes vacances\n",
      "['vtt', 'semnoz', 'pédalo', 'lac', 'promenade', 'bord', 'eau', 'superbe', 'ambiance', 'vielle', 'ville', 'pti', 'resto', 'super', 'sympa', 'vraiment', 'vraiment', 'bien', 'love', 'annecy', 'ville', 'magnifique', 'beaucoup', 'charme', 'quand', 'vais', 'annecy', 'impresssion', 'plus', 'etre', 'francepas', 'mal', 'choses', 'visiter', 'notamment', 'gorge', 'fier', 'non', 'loin', 'centre', 'balade', 'bateau', 'lac', 'vieille', 'ville', 'typiqueet', 'tres', 'bons', 'restaurant', 'aussi', 'joli', 'marche', 'dimanche', 'cet', 'endroit', 'exceptionnel', 'ailleurs', 'cela', 'plusieurs', 'personnes', 'traversent', 'france', 'venir', 'apprécier', 'lac', 'surtout', 'agréable', 'différentes', 'animation', 'dansantes', 'artistiques', 'lieu', 'convivialité', 'aussi', 'bien', 'balader', 'poser', 'pelouse', 'bien', 'faire', 'pédalo', 'pouvoir', 'explorer', 'différents', 'horizon', 'lac', 'verdure', 'pouvez', 'trouver', 'tout', 'montagnes', 'randonnées', 'lac', 'eau', 'transparente', 'baigner', 'rue', 'anciennes', 'plein', 'bâtiments', 'splendides', 'destination', 'idéale', 'ceux', 'aiment', 'baignade', 'eau', 'lac', 'excellente', 'tres', 'bonne', 'qualité', 'montagne', 'randonnées', 'tous', 'niveaux', 'cadre', 'magnifique', 'passer', 'tres', 'bonnes', 'vacances', 'mai', '2010', 'besoin', 'vacances', 'dépaysement', 'petit', 'prix', 'urgent', 'propose', 'donc', 'cher', 'tendre', 'virée', 'romantique', 'semaine', 'haute', 'savoie', 'connaissais', 'région', 'être', 'aller', 'petite', 'grand', 'parent', 'partons', 'donc', 'internet', 'recherche', 'gîte', 'proximité', 'annecy', 'après', 'plusieurs', 'jours', 'recherche', 'trouvons', 'annonce', 'bon', 'coin', '250', 'semaine', 'p2', 'villard', 'dessous', 'commune', 'manigod', 'arrivé', 'place', 'spectacle', 'laisse', 'sans', 'voix', 'paysage', 'fabuleux', 'montagnes', 'face', 'enneigées', 'profiter', 'semaine', 'visiter', 'annecy', 'faire', 'ballade', 'bateau', 'lac', 'annecy', 'aller', 'crémerie', 'acheter', 'nécessaire', 'fondue', 'savoyarde', 'visiter', 'museùm', 'genève', 'heure', 'route', 'voir', 'lac', 'léman', 'visiter', 'yvoire', 'magnifique', 'petit', 'village', 'médiéval', 'piéton', 'voir', 'cascade', 'rouget', 'dite', 'reine', 'alpes', 'arrosé', 'embruns', 'visiter', 'gorge', 'pont', 'diable', 'encore', 'beaucoup', 'promenade', 'marché', 'village', 'abord', 'annecy', 'très', 'belle', 'région', 'conseillons', 'tous', 'petit', 'grand', 'nombreuses', 'activités', 'tous', 'budget', 'semain', 'revenu', 'environ', '600', 'sortie', 'essence', 'péage', 'nourriture', 'location', 'gîte', 'compris', 'choses', 'regrettons', 'avoir', 'vu', 'marmottes', 'noter', 'aussi', 'si', 'aimez', 'visiter', 'faudra', 'rouler', 'cette', 'ville', 'enchante', 'depuis', 'dizaine', 'annéestant', 'tourisme', 'habitantscette', 'ville', 'reflet', 'parfait', 'vacancesj', 'besoin', 'aller', 'moins', 'fois', 'an', 'resourcer', 'magnifique', 'ville', 'activités', 'tous', 'proximité', 'station', 'ski', 'activités', 'nautiques', 'ville', 'culturelle', 'historique', 'magnifique', 'large', 'choix', 'shopping', 'note', 'spéciale', 'restaurant', '20', 'vins', 'vieille', 'ville', 'passage', 'golliardi', 'formule', 'originale', 'déguster', 'large', 'choix', 'bons', 'vins', 'plat', 'diversifiés', 'risotto', 'couscous', 'passant', 'souris', 'agneau', 'bien', 'mont', 'or', 'prime', 'déco', 'moderne', 'cosy', 'raffinée', 'ville', 'très', 'agréable', 'promenade', 'lac', 'possible', 'louer', 'pédalos', 'autres', 'bateaux', 'sans', 'moteur', 'malheureusement', 'entente', 'prix', 'fausse', 'totalement', 'concurrence', 'ville', 'décidé', 'faire', 'poches', 'visiteurs', 'grâce', 'tarif', 'prohibitif', 'parking', 'municipaux', 'ville', 'avère', 'tout', 'fait', 'adaptée', 'personnes', 'âgées', 'couple', 'sans', 'enfant', 'jolie', 'ville', 'entourée', 'belle', 'montagnes', 'lac', 'magnifique', 'contre', 'trés', 'mauvaise', 'mentalité', 'trés', 'mauvais', 'accueille', 'grand', 'nombre', 'restaurant', 'piege', 'touriste', 'prix', 'carrement', 'abusifs', 'plat', 'plus', 'médiocres', 'habitant', 'froid', 'sans', 'intéréts', 'rustres', 'vraiment', 'mal', 'polies', 'aucun', 'savoir', 'vivre', 'absolument', 'souriant', 'méme', 'commerce', 'remettrais', 'plus', 'jamais', 'pieds', 'éviter', 'toute', 'personne', 'désirant', 'profité', 'bonnes', 'vacances']\n"
     ]
    }
   ],
   "source": [
    "corpus = agg_df['reviews'].tolist()\n",
    "print(corpus[0])\n",
    "tokenized_corpus = [doc.split(' ') for doc in corpus]\n",
    "print(tokenized_corpus[0])\n",
    "processed_corpus = [clean_text(doc) for doc in corpus]\n",
    "print(processed_corpus[0])\n",
    "processed_tokenized_corpus = [doc.split(' ') for doc in processed_corpus]\n",
    "print(processed_tokenized_corpus[0])"
   ]
  },
  {
   "cell_type": "markdown",
   "metadata": {},
   "source": [
    "# Model Experimentation"
   ]
  },
  {
   "cell_type": "code",
   "execution_count": 6,
   "metadata": {},
   "outputs": [
    {
     "name": "stdout",
     "output_type": "stream",
     "text": [
      "[7, 1, 17, 15, 14, 4, 23, 3, 21, 29, 33, 2, 18, 13, 34, 0, 24, 6, 35, 16, 20, 8, 28, 11, 10, 31, 26, 22, 25, 30, 19, 32, 27, 5, 12, 9]\n"
     ]
    }
   ],
   "source": [
    "import random\n",
    "\n",
    "n_queries = 36\n",
    "random.seed(42)\n",
    "query_ids = random.sample(range(len(corpus)), n_queries)\n",
    "print(query_ids)"
   ]
  },
  {
   "cell_type": "code",
   "execution_count": 7,
   "metadata": {},
   "outputs": [],
   "source": [
    "model_results = {}"
   ]
  },
  {
   "cell_type": "markdown",
   "metadata": {},
   "source": [
    "## BM25 without NLP preprocessing"
   ]
  },
  {
   "cell_type": "code",
   "execution_count": 8,
   "metadata": {},
   "outputs": [
    {
     "name": "stdout",
     "output_type": "stream",
     "text": [
      "[0.20000000000000018, 0.5999999999999996, 0.7000000000000002, 0.6000000000000001, 1.3666666666666671, 0.7000000000000002, 0.666666666666667, 0.9333333333333331, 0.5, 0.666666666666667, 0.20000000000000018, 0.24285714285714333, 0.6000000000000001, 0.20000000000000018, 0.4666666666666668, 0.2999999999999998, 0.7000000000000002, 0.8666666666666667, 0.22857142857142865, 0.3666666666666667, 0.8000000000000003, 0.033333333333333215, 0.5, 0.40000000000000036, 1.3666666666666671, 0.5, 0.8000000000000003, 0.6666666666666665, 0.7000000000000002, 2.0333333333333337, 0.5, 0.20000000000000018, 0.023809523809523725, 0.0, 0.16666666666666696, 0.4333333333333331]\n",
      "0.5619047619047621\n",
      "[20, 0, 20, 17, 20, 20, 17, 15, 17, 17, 17, 26, 26, 20, 28, 20, 20, 20, 28, 28, 26, 20, 20, 17, 20, 17, 20, 13, 20, 20, 3, 20, 2, 20, 3, 26]\n"
     ]
    }
   ],
   "source": [
    "import numpy as np\n",
    "from rank_bm25 import BM25Okapi\n",
    "\n",
    "\n",
    "bm25 = BM25Okapi(tokenized_corpus)\n",
    "\n",
    "errors = []\n",
    "best_doc_ids = []\n",
    "\n",
    "for query_id in query_ids:\n",
    "    query = corpus[query_id]\n",
    "    tokenized_query = query.split(\" \")\n",
    "    doc_scores = bm25.get_scores(tokenized_query)\n",
    "    doc_id = doc_scores.argsort()[-2]\n",
    "    best_doc_ids.append(doc_id)\n",
    "    abs_error = abs(agg_df.iloc[query_id]['average_rating'] - agg_df.iloc[doc_id]['average_rating'])\n",
    "    errors.append(abs_error)\n",
    "    \n",
    "# Calculate the mean ERROR\n",
    "mean_error_bm25_baseline = np.mean(errors)\n",
    "print(errors)\n",
    "print(mean_error_bm25_baseline)\n",
    "print(best_doc_ids)\n",
    "model_results['bm25_baseline'] = mean_error_bm25_baseline"
   ]
  },
  {
   "cell_type": "markdown",
   "metadata": {},
   "source": [
    "## BM25 with NLP preprocessing"
   ]
  },
  {
   "cell_type": "code",
   "execution_count": 9,
   "metadata": {},
   "outputs": [
    {
     "name": "stdout",
     "output_type": "stream",
     "text": [
      "[0.20000000000000018, 0.5, 0.10000000000000009, 0.6000000000000001, 0.8666666666666671, 0.40000000000000036, 0.16666666666666696, 0.9333333333333331, 0.5, 0.666666666666667, 0.20000000000000018, 0.35714285714285676, 0.20000000000000018, 0.20000000000000018, 0.4666666666666668, 0.2999999999999998, 0.14285714285714324, 0.30952380952380976, 0.22857142857142865, 0.3666666666666667, 0.8000000000000003, 0.033333333333333215, 0.20000000000000018, 0.09999999999999964, 0.666666666666667, 0.16666666666666696, 0.10000000000000009, 0.8666666666666667, 0.5, 1.5333333333333337, 0.9333333333333331, 0.5, 0.033333333333333215, 0.0, 0.2999999999999998, 0.33333333333333304]\n",
      "0.41031746031746036\n",
      "[20, 18, 26, 17, 28, 0, 13, 15, 17, 17, 17, 13, 5, 20, 28, 20, 2, 2, 28, 28, 26, 5, 0, 13, 24, 9, 17, 20, 13, 28, 26, 24, 28, 20, 28, 24]\n"
     ]
    }
   ],
   "source": [
    "import numpy as np\n",
    "from rank_bm25 import BM25Okapi\n",
    "\n",
    "processed_bm25 = BM25Okapi(processed_tokenized_corpus)\n",
    "\n",
    "processed_errors = []\n",
    "processed_best_doc_ids = []\n",
    "\n",
    "for query_id in query_ids:\n",
    "    query = processed_corpus[query_id]\n",
    "    tokenized_query = query.split(\" \")\n",
    "    doc_scores = processed_bm25.get_scores(tokenized_query)\n",
    "    doc_id = doc_scores.argsort()[-2]\n",
    "    processed_best_doc_ids.append(doc_id)\n",
    "    abs_error = abs(agg_df.iloc[query_id]['average_rating'] - agg_df.iloc[doc_id]['average_rating'])\n",
    "    processed_errors.append(abs_error)\n",
    "    \n",
    "# Calculate the mean ERROR\n",
    "mean_error_bm25_preprocessed = np.mean(processed_errors)\n",
    "print(processed_errors)\n",
    "print(mean_error_bm25_preprocessed)\n",
    "print(processed_best_doc_ids)\n",
    "model_results['bm25_preprocessed'] = mean_error_bm25_preprocessed"
   ]
  },
  {
   "cell_type": "markdown",
   "metadata": {},
   "source": [
    "## TFIDF without NLP preprocessing"
   ]
  },
  {
   "cell_type": "code",
   "execution_count": 10,
   "metadata": {},
   "outputs": [
    {
     "name": "stdout",
     "output_type": "stream",
     "text": [
      "[0.20000000000000018, 0.5999999999999996, 0.7000000000000002, 0.6000000000000001, 1.3666666666666671, 0.7000000000000002, 0.033333333333333215, 0.33333333333333304, 1.1, 0.666666666666667, 0.20000000000000018, 0.14285714285714324, 0.20000000000000018, 0.20000000000000018, 0.4666666666666668, 0.2999999999999998, 0.7000000000000002, 0.8666666666666667, 0.27142857142857135, 0.8666666666666667, 0.7000000000000002, 0.033333333333333215, 0.5, 0.2999999999999998, 1.3666666666666671, 0.20000000000000018, 0.8000000000000003, 0.6666666666666665, 0.7000000000000002, 2.0333333333333337, 0.9333333333333331, 0.20000000000000018, 0.033333333333333215, 0.0, 0.20000000000000018, 0.33333333333333304]\n",
      "0.542063492063492\n",
      "[20, 0, 20, 17, 20, 20, 20, 17, 15, 17, 17, 17, 20, 20, 28, 20, 20, 20, 20, 20, 17, 20, 20, 20, 20, 20, 20, 13, 20, 20, 26, 20, 28, 20, 20, 17]\n"
     ]
    }
   ],
   "source": [
    "from sklearn.feature_extraction.text import TfidfVectorizer\n",
    "from sklearn.metrics.pairwise import cosine_similarity\n",
    "\n",
    "# Build TF-IDF matrix\n",
    "tfidf = TfidfVectorizer()\n",
    "tfidf_matrix = tfidf.fit_transform(corpus)\n",
    "\n",
    "errors = []\n",
    "best_doc_ids = []\n",
    "\n",
    "# Iterate through random queries\n",
    "for query_id in query_ids:\n",
    "    query = corpus[query_id]\n",
    "    query_vector = tfidf.transform([query])\n",
    "    doc_scores = cosine_similarity(query_vector, tfidf_matrix).flatten()\n",
    "    doc_id = np.argsort(doc_scores)[-2]  # Second-highest score\n",
    "    best_doc_ids.append(doc_id)\n",
    "    abs_error = abs(agg_df.iloc[query_id]['average_rating'] - agg_df.iloc[doc_id]['average_rating'])\n",
    "    errors.append(abs_error)\n",
    "\n",
    "mean_error_tf_baseline = np.mean(errors)\n",
    "print(errors)\n",
    "print(mean_error_tf_baseline)\n",
    "print(best_doc_ids)\n",
    "model_results['tfidf_baseline'] = mean_error_tf_baseline"
   ]
  },
  {
   "cell_type": "markdown",
   "metadata": {},
   "source": [
    "## TFIDF with NLP preprocessing"
   ]
  },
  {
   "cell_type": "code",
   "execution_count": 11,
   "metadata": {},
   "outputs": [
    {
     "name": "stdout",
     "output_type": "stream",
     "text": [
      "[0.20000000000000018, 0.5999999999999996, 0.10000000000000009, 0.6000000000000001, 0.8666666666666671, 0.40000000000000036, 0.666666666666667, 0.9333333333333331, 0.5, 0.666666666666667, 0.20000000000000018, 0.35714285714285676, 0.09999999999999964, 0.20000000000000018, 0.033333333333333215, 0.2999999999999998, 0.14285714285714324, 0.16666666666666652, 0.22857142857142865, 0.3666666666666667, 0.7000000000000002, 0.666666666666667, 0.5, 0.40000000000000036, 0.666666666666667, 0.16666666666666696, 0.10000000000000009, 0.8666666666666667, 0.7000000000000002, 1.3333333333333335, 0.9333333333333331, 0.09999999999999964, 0.33333333333333304, 0.7000000000000002, 0.0, 0.4333333333333331]\n",
      "0.45079365079365086\n",
      "[20, 0, 26, 17, 28, 0, 17, 15, 17, 17, 17, 13, 0, 20, 5, 20, 2, 17, 28, 28, 17, 17, 5, 17, 17, 9, 17, 20, 20, 17, 26, 0, 12, 17, 13, 26]\n"
     ]
    }
   ],
   "source": [
    "from sklearn.feature_extraction.text import TfidfVectorizer\n",
    "from sklearn.metrics.pairwise import cosine_similarity\n",
    "\n",
    "# Build TF-IDF matrix\n",
    "tfidf = TfidfVectorizer()\n",
    "tfidf_matrix = tfidf.fit_transform(processed_corpus)\n",
    "\n",
    "preprocessed_errors = []\n",
    "best_doc_ids = []\n",
    "\n",
    "# Iterate through random queries\n",
    "for query_id in query_ids:\n",
    "    query = processed_corpus[query_id]\n",
    "    query_vector = tfidf.transform([query])\n",
    "    doc_scores = cosine_similarity(query_vector, tfidf_matrix).flatten()\n",
    "    doc_id = np.argsort(doc_scores)[-2]  # Second-highest score\n",
    "    best_doc_ids.append(doc_id)\n",
    "    abs_error = abs(agg_df.iloc[query_id]['average_rating'] - agg_df.iloc[doc_id]['average_rating'])\n",
    "    preprocessed_errors.append(abs_error)\n",
    "\n",
    "mean_error_tf_preprocessed = np.mean(preprocessed_errors)\n",
    "print(preprocessed_errors)\n",
    "print(mean_error_tf_preprocessed)\n",
    "print(best_doc_ids)\n",
    "model_results['tfidf_preprocessed'] = mean_error_tf_preprocessed"
   ]
  },
  {
   "cell_type": "markdown",
   "metadata": {},
   "source": [
    "## Flan T5 without NLP preprocessing"
   ]
  },
  {
   "cell_type": "code",
   "execution_count": 12,
   "metadata": {},
   "outputs": [
    {
     "name": "stdout",
     "output_type": "stream",
     "text": [
      "WARNING:tensorflow:From c:\\Users\\ringi_3xz04z7\\AppData\\Local\\Programs\\Python\\Python311\\Lib\\site-packages\\keras\\src\\losses.py:2976: The name tf.losses.sparse_softmax_cross_entropy is deprecated. Please use tf.compat.v1.losses.sparse_softmax_cross_entropy instead.\n",
      "\n"
     ]
    }
   ],
   "source": [
    "from transformers import T5Tokenizer, T5Model\n",
    "from sklearn.metrics.pairwise import cosine_similarity\n",
    "import numpy as np\n",
    "import random\n",
    "import sentencepiece\n",
    "import torch"
   ]
  },
  {
   "cell_type": "code",
   "execution_count": 13,
   "metadata": {},
   "outputs": [
    {
     "name": "stderr",
     "output_type": "stream",
     "text": [
      "You are using the default legacy behaviour of the <class 'transformers.models.t5.tokenization_t5.T5Tokenizer'>. This is expected, and simply means that the `legacy` (previous) behavior will be used so nothing changes for you. If you want to use the new behaviour, set `legacy=False`. This should only be set if you understand what it means, and thoroughly read the reason why this was added as explained in https://github.com/huggingface/transformers/pull/24565\n"
     ]
    },
    {
     "name": "stdout",
     "output_type": "stream",
     "text": [
      "Encoding documents into embeddings...\n"
     ]
    }
   ],
   "source": [
    "from transformers import T5Tokenizer, T5Model\n",
    "from sklearn.metrics.pairwise import cosine_similarity\n",
    "import numpy as np\n",
    "import random\n",
    "import sentencepiece\n",
    "import torch\n",
    "\n",
    "# Load T5 model and tokenizer\n",
    "model_name = \"t5-base\"  # Change to \"t5-base\" or \"t5-large\" for better results\n",
    "tokenizer = T5Tokenizer.from_pretrained(model_name)\n",
    "model = T5Model.from_pretrained(model_name)\n",
    "\n",
    "# Ensure reproducibility\n",
    "random.seed(42)\n",
    "np.random.seed(42)\n",
    "\n",
    "# Function to encode text into embeddings using T5\n",
    "def encode_text(text, max_length=512):\n",
    "    # Tokenize and prepare inputs\n",
    "    inputs = tokenizer(text, return_tensors=\"pt\", max_length=max_length, truncation=True, padding=\"max_length\")\n",
    "    # Pass inputs through T5 encoder to get embeddings\n",
    "    with torch.no_grad():\n",
    "        outputs = model.encoder(**inputs)\n",
    "    # Mean pooling of the token embeddings\n",
    "    return outputs.last_hidden_state.mean(dim=1).squeeze().numpy()\n",
    "\n",
    "# Preprocess corpus to get embeddings\n",
    "print(\"Encoding documents into embeddings...\")\n",
    "document_embeddings = np.array([encode_text(doc) for doc in corpus])"
   ]
  },
  {
   "cell_type": "code",
   "execution_count": 14,
   "metadata": {},
   "outputs": [
    {
     "name": "stdout",
     "output_type": "stream",
     "text": [
      "Processing queries...\n",
      "[0.09999999999999964, 0.5, 0.666666666666667, 0.8000000000000003, 0.8095238095238102, 0.5, 0.666666666666667, 1.0, 0.16666666666666696, 1.333333333333334, 0.8000000000000003, 0.8095238095238102, 0.5, 0.35714285714285676, 0.16666666666666696, 0.2666666666666666, 0.666666666666667, 0.3666666666666667, 0.07142857142857117, 0.0, 1.3666666666666671, 0.4666666666666668, 0.05714285714285694, 0.06666666666666732, 1.0, 0.6666666666666665, 0.10000000000000009, 0.0, 0.666666666666667, 1.8333333333333335, 0.833333333333333, 1.166666666666667, 0.33333333333333304, 0.033333333333333215, 0.6666666666666665, 0.13333333333333286]\n",
      "Mean ERROR: 0.5538359788359789\n",
      "Best doc IDs: [0, 18, 8, 33, 2, 18, 25, 10, 8, 23, 15, 14, 4, 2, 12, 8, 14, 28, 7, 22, 14, 28, 2, 9, 3, 22, 17, 16, 23, 12, 4, 14, 18, 8, 16, 28]\n"
     ]
    }
   ],
   "source": [
    "errors = []\n",
    "best_doc_ids = []\n",
    "\n",
    "# Iterate through random queries\n",
    "print(\"Processing queries...\")\n",
    "for query_id in query_ids:\n",
    "    query = corpus[query_id]\n",
    "    query_embedding = encode_text(query)\n",
    "    \n",
    "    # Compute cosine similarities\n",
    "    doc_scores = cosine_similarity([query_embedding], document_embeddings).flatten()\n",
    "    \n",
    "    # Get the second-highest score\n",
    "    doc_id = np.argsort(doc_scores)[-2]  # Second-highest score\n",
    "    best_doc_ids.append(doc_id)\n",
    "    \n",
    "    # Calculate MSE for evaluation\n",
    "    abs_error = abs(agg_df.iloc[query_id]['average_rating'] - agg_df.iloc[doc_id]['average_rating'])\n",
    "    errors.append(abs_error)\n",
    "\n",
    "# Calculate the mean ERROR\n",
    "mean_errors_t5s_baseline = np.mean(errors)\n",
    "print(errors)\n",
    "print(f\"Mean ERROR: {mean_errors_t5s_baseline}\")\n",
    "print(\"Best doc IDs:\", best_doc_ids)\n",
    "model_results['t5s_baseline'] = mean_errors_t5s_baseline"
   ]
  },
  {
   "cell_type": "markdown",
   "metadata": {},
   "source": [
    "## Flan TF with NLP preprocessing"
   ]
  },
  {
   "cell_type": "code",
   "execution_count": 15,
   "metadata": {},
   "outputs": [
    {
     "name": "stdout",
     "output_type": "stream",
     "text": [
      "Encoding documents into embeddings...\n"
     ]
    }
   ],
   "source": [
    "# Load T5 model and tokenizer\n",
    "model_name = \"t5-base\"  # Change to \"t5-base\" or \"t5-large\" for better results\n",
    "tokenizer = T5Tokenizer.from_pretrained(model_name)\n",
    "model = T5Model.from_pretrained(model_name)\n",
    "\n",
    "# Ensure reproducibility\n",
    "random.seed(42)\n",
    "np.random.seed(42)\n",
    "\n",
    "# Function to encode text into embeddings using T5\n",
    "def encode_text(text, max_length=512):\n",
    "    # Tokenize and prepare inputs\n",
    "    inputs = tokenizer(text, return_tensors=\"pt\", max_length=max_length, truncation=True, padding=\"max_length\")\n",
    "    # Pass inputs through T5 encoder to get embeddings\n",
    "    with torch.no_grad():\n",
    "        outputs = model.encoder(**inputs)\n",
    "    # Mean pooling of the token embeddings\n",
    "    return outputs.last_hidden_state.mean(dim=1).squeeze().numpy()\n",
    "\n",
    "# Preprocess corpus to get embeddings\n",
    "print(\"Encoding documents into embeddings...\")\n",
    "document_embeddings = np.array([encode_text(doc) for doc in processed_corpus])"
   ]
  },
  {
   "cell_type": "code",
   "execution_count": 16,
   "metadata": {},
   "outputs": [
    {
     "name": "stdout",
     "output_type": "stream",
     "text": [
      "Processing queries...\n",
      "[0.20000000000000018, 0.5999999999999996, 0.10000000000000009, 0.6000000000000001, 0.8666666666666671, 0.40000000000000036, 0.666666666666667, 0.9333333333333331, 0.5, 0.666666666666667, 0.20000000000000018, 0.35714285714285676, 0.09999999999999964, 0.20000000000000018, 0.033333333333333215, 0.2999999999999998, 0.14285714285714324, 0.16666666666666652, 0.22857142857142865, 0.3666666666666667, 0.7000000000000002, 0.666666666666667, 0.5, 0.40000000000000036, 0.666666666666667, 0.16666666666666696, 0.10000000000000009, 0.8666666666666667, 0.7000000000000002, 1.3333333333333335, 0.9333333333333331, 0.09999999999999964, 0.33333333333333304, 0.7000000000000002, 0.0, 0.4333333333333331]\n",
      "Mean ERROR: 0.45079365079365086\n",
      "Best doc IDs: [28, 19, 33, 28, 23, 27, 14, 10, 11, 14, 26, 13, 34, 2, 16, 28, 13, 35, 6, 34, 7, 11, 0, 21, 3, 22, 33, 16, 29, 12, 1, 14, 34, 7, 34, 16]\n"
     ]
    }
   ],
   "source": [
    "processed_errors = []\n",
    "best_doc_ids = []\n",
    "\n",
    "# Iterate through random queries\n",
    "print(\"Processing queries...\")\n",
    "for query_id in query_ids:\n",
    "    query = processed_corpus[query_id]\n",
    "    query_embedding = encode_text(query)\n",
    "    \n",
    "    # Compute cosine similarities\n",
    "    doc_scores = cosine_similarity([query_embedding], document_embeddings).flatten()\n",
    "    \n",
    "    # Get the second-highest score\n",
    "    doc_id = np.argsort(doc_scores)[-2]  # Second-highest score\n",
    "    best_doc_ids.append(doc_id)\n",
    "    \n",
    "    # Calculate MSE for evaluation\n",
    "    abs_error = abs(agg_df.iloc[query_id]['average_rating'] - agg_df.iloc[doc_id]['average_rating'])\n",
    "    processed_errors.append(abs_error)\n",
    "\n",
    "# Calculate the mean ERROR\n",
    "mean_error_t5s_preprocessed = np.mean(processed_errors)\n",
    "print(preprocessed_errors)\n",
    "print(f\"Mean ERROR: {mean_error_tf_preprocessed}\")\n",
    "print(\"Best doc IDs:\", best_doc_ids)\n",
    "model_results['t5s_preprocessed'] = mean_error_t5s_preprocessed"
   ]
  },
  {
   "cell_type": "markdown",
   "metadata": {},
   "source": [
    "## BERT"
   ]
  },
  {
   "cell_type": "code",
   "execution_count": 17,
   "metadata": {},
   "outputs": [
    {
     "name": "stdout",
     "output_type": "stream",
     "text": [
      "[0.09999999999999964, 0.16666666666666696, 0.0, 0.6000000000000001, 0.8666666666666671, 0.5, 1.333333333333334, 0.16666666666666696, 0.16666666666666696, 0.8666666666666671, 0.3666666666666667, 1.4761904761904767, 0.16666666666666696, 0.5, 0.5, 0.2666666666666666, 0.5, 0.3666666666666667, 0.02857142857142847, 0.3666666666666667, 0.033333333333333215, 0.033333333333333215, 0.8666666666666671, 0.5666666666666669, 0.666666666666667, 0.0, 0.6000000000000001, 0.6666666666666665, 0.5, 2.0000000000000004, 0.33333333333333304, 0.16666666666666696, 0.33333333333333304, 0.20000000000000018, 0.6666666666666665, 0.33333333333333304]\n",
      "0.4797619047619049\n",
      "[11, 19, 24, 24, 28, 18, 29, 18, 8, 28, 22, 30, 3, 25, 27, 34, 12, 28, 0, 28, 8, 20, 29, 22, 25, 13, 18, 12, 13, 34, 12, 3, 12, 12, 22, 25]\n"
     ]
    }
   ],
   "source": [
    "from sentence_transformers import SentenceTransformer\n",
    "from sklearn.metrics.pairwise import cosine_similarity\n",
    "\n",
    "# Encode documents into embeddings\n",
    "model = SentenceTransformer('all-MiniLM-L6-v2')  # Lightweight BERT-based model\n",
    "embeddings = model.encode(corpus)\n",
    "\n",
    "errors = []\n",
    "best_doc_ids = []\n",
    "\n",
    "# Iterate through random queries\n",
    "for query_id in query_ids:\n",
    "    query = corpus[query_id]\n",
    "    query_embedding = model.encode([query])\n",
    "    doc_scores = cosine_similarity(query_embedding, embeddings).flatten()\n",
    "    doc_id = np.argsort(doc_scores)[-2]  # Second-highest score\n",
    "    best_doc_ids.append(doc_id)\n",
    "    abs_error = abs(agg_df.iloc[query_id]['average_rating'] - agg_df.iloc[doc_id]['average_rating'])\n",
    "    errors.append(abs_error)\n",
    "\n",
    "mean_error_bert_baseline = np.mean(errors)\n",
    "print(errors)\n",
    "print(mean_error_bert_baseline)\n",
    "print(best_doc_ids)\n",
    "model_results['bert_baseline'] = mean_error_bert_baseline\n",
    "bert_model=model"
   ]
  },
  {
   "cell_type": "code",
   "execution_count": 18,
   "metadata": {},
   "outputs": [
    {
     "name": "stdout",
     "output_type": "stream",
     "text": [
      "[0.16666666666666696, 0.5999999999999996, 1.3333333333333335, 0.8000000000000003, 0.8666666666666671, 0.5, 0.5, 0.09523809523809579, 0.5, 0.8095238095238102, 0.3666666666666667, 0.05714285714285694, 0.09999999999999964, 0.09999999999999964, 2.0000000000000004, 0.02857142857142847, 0.40000000000000036, 0.3666666666666667, 0.02857142857142847, 0.3666666666666667, 0.033333333333333215, 0.3333333333333339, 0.05714285714285694, 0.5666666666666669, 1.0, 0.07142857142857117, 0.5000000000000004, 0.3666666666666667, 0.666666666666667, 1.8333333333333335, 0.9999999999999996, 0.2999999999999998, 1.5000000000000004, 0.033333333333333215, 1.8333333333333335, 0.06666666666666732]\n",
      "0.5596560846560846\n",
      "[9, 11, 30, 33, 28, 18, 27, 35, 17, 2, 22, 28, 0, 0, 30, 35, 0, 28, 0, 28, 8, 3, 2, 22, 3, 35, 0, 33, 23, 12, 22, 28, 30, 34, 30, 0]\n"
     ]
    }
   ],
   "source": [
    "from sentence_transformers import SentenceTransformer\n",
    "from sklearn.metrics.pairwise import cosine_similarity\n",
    "\n",
    "# Encode documents into embeddings\n",
    "model = SentenceTransformer('all-MiniLM-L6-v2')  # Lightweight BERT-based model\n",
    "embeddings = model.encode(processed_corpus)\n",
    "\n",
    "processed_errors = []\n",
    "best_doc_ids = []\n",
    "\n",
    "# Iterate through random queries\n",
    "for query_id in query_ids:\n",
    "    query = processed_corpus[query_id]\n",
    "    query_embedding = model.encode([query])\n",
    "    doc_scores = cosine_similarity(query_embedding, embeddings).flatten()\n",
    "    doc_id = np.argsort(doc_scores)[-2]  # Second-highest score\n",
    "    best_doc_ids.append(doc_id)\n",
    "    abs_error = abs(agg_df.iloc[query_id]['average_rating'] - agg_df.iloc[doc_id]['average_rating'])\n",
    "    processed_errors.append(abs_error)\n",
    "\n",
    "mean_error_bert_preprocessed = np.mean(processed_errors)\n",
    "print(processed_errors)\n",
    "print(mean_error_bert_preprocessed)\n",
    "print(best_doc_ids)\n",
    "model_results['bert_preprocessed'] = mean_error_bert_preprocessed"
   ]
  },
  {
   "cell_type": "markdown",
   "metadata": {},
   "source": [
    "## Results comparision"
   ]
  },
  {
   "cell_type": "code",
   "execution_count": 19,
   "metadata": {},
   "outputs": [
    {
     "data": {
      "image/png": "[encoded data removed]",
      "text/plain": [
       "<Figure size 1000x600 with 1 Axes>"
      ]
     },
     "metadata": {},
     "output_type": "display_data"
    }
   ],
   "source": [
    "import matplotlib.pyplot as plt\n",
    "import seaborn as sns\n",
    "\n",
    "results_df = pd.DataFrame.from_dict(model_results, orient='index', columns=['ERROR'])\n",
    "results_df = results_df.reset_index().rename(columns={'index': 'Model'})\n",
    "results_df = results_df.sort_values('ERROR')\n",
    "\n",
    "plt.figure(figsize=(10, 6))\n",
    "sns.barplot(x='ERROR', y='Model', data=results_df, palette='viridis', hue='Model')\n",
    "plt.title('Average Error of Different Models')\n",
    "plt.xlabel('Average Error')\n",
    "\n",
    "plt.show()"
   ]
  },
  {
   "cell_type": "markdown",
   "metadata": {},
   "source": [
    "# Recommendation based on review and emissions"
   ]
  },
  {
   "cell_type": "markdown",
   "metadata": {},
   "source": [
    "## Only BM25"
   ]
  },
  {
   "cell_type": "code",
   "execution_count": null,
   "metadata": {},
   "outputs": [
    {
     "name": "stdout",
     "output_type": "stream",
     "text": [
      "\n",
      "Top 3 Matches:\n",
      "Destination: Bruxelles N Aero\n",
      "Document: ['amour', 'porte', 'ville', 'dépend', 'évidemment', 'cherche', 'lu', 'commentaires', 'négatifs', 'rome', 'paris', 'trouve', 'personnellement', 'admirables', 'bruxelles', 'taille', 'grande', 'ville', 'province', 'peine', 'deux', 'million', 'habitant', 'grande', 'banlieue', 'peut', 'donc', 'comparer', 'paris', 'londres', 'rome', 'proportionnellement', 'taille', 'ville', 'riche', 'musées', 'oeuvre', 'art', 'tout', 'fait', 'remarquables', 'crois', 'déplorable', 'service', 'touristique', 'cette', 'ville', 'mette', 'trop', 'accent', 'exception', 'grand', 'place', 'plus', 'médiocre', 'manneken', 'pi', 'atomium', 'assez', 'médiocres', 'restaurant', 'rue', 'bouchers', 'plus', 'populaire', 'habite', 'cette', 'ville', 'depuis', 'nombre', 'années', 'trouve', 'agréable', 'vivre', 'bons', 'cinémas', 'bons', 'théâtres', 'excellentes', 'salles', 'concert', 'surtout', 'appartements', 'très', 'confortables', 'prix', 'relativement', 'abordables', 'espace', 'relativement', 'peu', 'habitant', 'très', 'beau', 'hôtels', 'maître', 'atmosphère', 'très', 'détendue', 'gros', 'défauts', 'cette', 'ville', 'relative', 'saleté', 'manque', 'attention', 'jardins', 'manques', 'amour', 'beaucoup', 'habitant', 'semble', 'édiles', 'locaux', 'veuillent', 'derniers', 'temp', 'faire', 'effort', 'bref', 'ville', 'mérite', 'vraiment', 'beaucoup', 'mieux', 'titre', 'capitale', 'chocolat', 'pris', 'car', 'panoramique', 'faisant', 'tour', 'ville', 'très', 'agréable', 'car', 'voyons', 'choses', 'primordiales', 'pourrions', 'faire', '2hpar', 'contre', 'bcq', 'embouteillages', 'après', 'avoir', 'repris', 'véhicule', 'garé', 'parking', 'tourné', 'afin', 'sortir', 'ville', 'car', 'aucun', 'panneau', 'signalisation', 'indiquant', 'villes', 'alentour', 'simplement', 'autoroute', 'indiquant', 'ring', 'quelle', 'direction', 'devant', 'rendre', 'genval', 'malheureusement', 'connaissions', 'autoroute', 'e411', 'après', 'maints', 'arrêts', 'demander', 'route', 'enfin', 'trouvé', 'bonne', 'personne', 'bien', '1ère', 'fois', 'cela', 'arrive', 'reviendrons', 'si', 'tot', 'cette', 'ville', 'laissé', 'amer', 'souvenir', 'francais', 'parisiens', 'pourtant', 'habitués', 'circulation', 'autoroutes', 'périphériques', 'ville', 'magnifique', 'lorsqu', 'fait', 'beau', 'préférez', 'période', 'avril', 'septembre', 'visiter', 'cette', 'ville', 'bien', 'pendant', 'période', 'fêtes', 'plaisirs', 'hiver', 'parcs', 'très', 'nombreux', 'avenue', 'boisées', 'tramway', 'moyen', 'bon', 'marché', 'découvrir', 'ville', 'plus', 'beau', 'endroits', 'centre', 'ville', 'brux', 'ville', 'uccle', 'ixelles', 'heyzel', 'quartier', 'européen', 'tres', 'belle', 'ville', 'tout', 'petit', 'peu', 'decu', 'capitale', 'comparé', 'rome', 'paris', 'car', 'ça', 'fait', 'peu', 'ville', 'province', 'enormement', 'chose', 'voir', 'faire', 'moins', '1x', 'ça', 'vaut', 'coup', 'très', 'bien', 'logés', 'ajouté', 'agrément', 'séjour', 'bruxelles', 'ville', 'très', 'agréable', 'surprise', 'taille', 'échelle', 'humaine', 'ville', 'connue', 'monde', 'entier', 'mélange', 'population', 'personne', 'parlant', 'langues', 'différentes', 'touristes', 'attraction', 'onu', 'sans', 'doute', 'très', 'bien', 'accueillis', 'partout', 'où', 'allés', 'ville', 'dégage', 'atmosphère', 'plaisante', 'stress', 'apparemment', 'beaucoup', 'chose', 'voir', 'plan', 'architectural', 'culturel', 'ville', 'passionnante', 'découvrir', 'riche', 'musées', 'bâtiments', 'vie', 'tout', 'court', 'habitant', 'galeries', 'très', 'branchées', 'côté', 'épicerie', 'orientale', 'cafés', 'merveilleux', 'mélange', 'architecture', 'magnifique', 'bâtisses', 'affreuses', 'vraiment', 'belle', 'ville', 'si', 'vivante', 'jours', 'bruxelles', 'découverte', 'ville', 'pleine', 'charme', 'grand', 'place', 'merveille', 'architecture', 'rue', 'ruelles', 'bordant', 'grand', 'place', 'moment', 'détente', 'bonne', 'humeur', 'communicatives', 'répendent', 'table', 'table', 'soleil', 'rdv', 'galeries', 'couvertes', 'dont', 'parle', 'jamais', 'plus', 'superbes', 'galerie', 'reine', 'prince', 'galerie', 'saint', 'hubert', 'manquer', 'makenpis', 'peu', 'décevant', 'belges', 'gagnent', 'être', 'connus', 'manquez', 'musée', 'magritte', 'bruxelles', 'ville', 'propre', 'moderne', 'su', 'garder', 'toutes', 'tradition', 'ambiance', 'garantie', 'vieille', 'ville', 'royale', 'vu', 'arno', 'cette', 'fois', 'ci', 'acheté', 'plein', 'bd', 'bruxelles', 'vraie', 'frontière', 'entre', 'nord', 'sud', 'salut', 'amis', 'cet', 'hôtel', 'proche', 'institution', 'européennes', 'accueil', 'service', 'irréprochables', 'week', 'end', 'nuit', 'revenue', 'petits', 'déjeuners', 'copieux', 'parking', 'privé', '185', 'euro', 'peu', 'loin', 'grand', 'place', 'station', 'métro', 'schumann', '10', 'minute', 'confirme', 'car', 'vi', 'sale', 'ennuyeux', 'gris', 'bien', 'loin', 'image', 'faite', 'faut', 'dire', 'plupart', 'expatriés', 'vivent', 'bulle', 'ixelles', 'uccle', 'pire', 'saleté', 'samedi', 'quartiers', 'comme', 'louise', 'rue', 'neuve', 'ramassage', 'poubelles', 'lieu', 'fois', 'semaine', 'mardi', 'vendredi', 'sac', 'plastique', 'ancienne', 'français', 'donc', 'samedi', 'restent', 'tout', 'éboueurs', 'voulu', 'prendre', 'magnifique', 'dire', 'toison', 'or', 'louise', 'jumeler', 'montaigne', 'là', 'comprends', 'plus', 'rien', 'voir', 'vécu', 'espagne', 'portugal', 'londres', 'également', 'trouve', 'plus', 'propre', 'bruxelles', 'pay', 'nord', 'comme', 'belgique', 'ferait', 'bien', 'prendre', 'exemple', 'pay', 'sud', 'soi', 'disant', 'moins', 'disciplinés', 'nord', 'europe', 'car', 'trs', 'propre', 'très', 'organisés', 'ordure']\n",
      "Score: 2.156197959940309\n",
      "\n",
      "Destination: Lyon Part Dieu\n",
      "Document: ['très', 'belle', 'vieille', 'ville', 'nombreux', 'site', 'voir', 'visiter', 'faut', 'pouvoir', 'déplacer', 'pédestrement', 'découvrir', 'petits', 'joyaux', 'toujours', 'beaucoup', 'monde', 'surtout', 'moment', 'fêtes', 'lumières', 'peut', 'conseiller', 'visite', 'plusieurs', 'jours', 'ruelles', 'bâtiments', 'vieux', 'lyon', 'très', 'sympa', 'visiter', 'sans', 'restriction', 'omettant', 'arrêter', 'nombreux', 'petits', 'bistrots', 'vieille', 'ville', 'ville', 'magnifique', 'excellence', 'gastronomie', 'culture', 'française', 'sejour', 'remplie', 'émerveillement', 'découvertes', 'autant', 'culturelles', 'dégustations', 'diferentes', 'suggestion', 'degustatives', 'vraiment', 'adoré', 'lyon', 'ville', 'remplie', 'belle', 'surprise', 'petits', 'arrondissements', 'bouchons', 'lyinnais', 'belle', 'boutique', 'animation', 'rue', 'verdure', 'eau', 'passé', 'journées', 'mémorables', 'retournerons', 'dès', 'possible', 'visite', 'guidée', 'organisée', 'office', 'tourisme', 'très', 'intéressante', 'groupe', 'explication', 'toujours', 'très', 'audible', 'tous', 'audio', 'guide', 'moyennant', 'participation', 'très', 'utiles', 'visite', 'vélo', 'taxi', 'cœur', 'historique', 'ville', 'magasins', 'soie', 'vitraux', 'traboules', 'monument', 'bâtiments', 'musée']\n",
      "Score: 0.0\n",
      "\n",
      "Destination: Nice\n",
      "Document: ['beaucoup', 'choix', 'concernant', 'restauration', 'belle', 'vieille', 'ville', 'marché', 'fleurs', 'cours', 'saleya', 'ambiance', 'typique', 'cette', 'ville', 'beau', 'bâtiments', 'trop', 'bruit', 'grande', 'ville', 'tout', 'zone', 'pietonne', 'sympa', 'shopping', 'interessant', 'bouffe', 'aussi', 'bonne', 'sauf', 'promenade', 'anglais', 'bord', 'mer', 'magnifique', 'cette', 'ville', 'horrible', 'vacances', 'familleil', 'grand', 'chose', 'faire', 'part', 'si', 'reste', 'joursfaire', 'resto', 'ca', 'vacances', 'quelques', 'bons', 'point', 'comme', 'accueil', 'chaleureux', 'très', 'bel', 'endroit', 'cependant', 'assiettes', 'tapa', 'chères', 'bonnes', '12', 'tranche', 'pin', 'vin', 'rouge', 'servit', '17', 'degrés', 'donc', 'dis', 'goût', 'bouteille', '40', 'téléphone', 'laisse', 'deux', 'message', 'vocales', 'réserver', 'arrivée', 'dit', 'possible', 'réserver', '19h30', '22h', 'demander', 'quitter', 'table', 'car', 'autres', 'client', 'réserves', 'bouteille', 'vodka', '150', 'outrée', 'dit', 'normal', 'laissés', 'message', 'monsieur', 'dit', 'numéro', 'faut', 'savoir', 'deux', 'numéros', 'site', 'officiel', 'décidé', 'partir', 'sans', 'régler', 'note', 'bon', 'règle', 'bien', 'entendu', 'exactement', 'cher', 'monsieur', 'fait', 'passer', 'propriétaire', 'tutoyer', 'traiter', 'tous', 'noms', 'oiseaux', 'pleine', 'rue', 'geste', 'commerciale', 'certainement', 'regeler', 'cette', 'erreur', 'simple', 'excuse', 'monsieur', 'chauve', 'préféré', 'mettre', 'dehors', 'alors', 'donne', '3eme', 'bouteilles', 'certainement', 'fini', 'consommer', 'conclusion', 'service', 'déplorable', 'nourriture', 'bonne', 'tarifs', 'excessifs', 'rapport', 'qualité', 'proposée', 'nice', 'belle', 'ville', 'difficulté', 'trouver', 'parking', 'libres', 'énormément', 'choses', 'voir', 'premier', 'lieu', 'promenade', 'anglais', 'littoral', 'contre', 'trop', 'feu', 'rouge', 'mauvaise', 'circulation', 'route', 'mauvais', 'état', 'notamment', 'gare', 'nice', 'nord', 'rue', 'cessole', 'scandaleux', 'très', 'bon', 'séjour', 'très', 'beau', 'temp', 'prsonnel', 'lhotel', 'accueil', 'très', 'bien', 'gentillesse', 'sourire', 'etc', 'leschambres', 'propres', 'bien', 'tenues', 'restaurant', 'personnel', 'également', 'agréable', 'faisant', 'tout', 'faire', 'plaisirf', 'reviendrons', 'cet', 'hôtel', 'mari', 'malade', 'demandé', 'médecin', 'dna', 'quart', 'heure', 'monsieur', 'occupe', 'cela', 'trouvé', 'visite', 'très', 'loin', 'hôtel', 'trouve', 'cela', 'important', 'génial', 'merci', 'encore', 'passer', 'week', 'end', 'formidable', 'amoureux', 'seul', 'petit', 'regret', 'dejeuner', 'chambre', 'trop', 'cher', 'contenue', 'accueillis', 'gentillement', 'hôtel', 'splendid', 'nice', 'malgré', 'étoiles', 'chambre', 'grande', 'belle', 'belle', 'salle', 'bain', 'point', 'important', 'parking', 'sou', 'hôtel', 'payant', 'indispensable', 'utiliser', 'car', 'garer', 'nice', 'galère', 'proche', 'tramway', 'pu', 'aller', 'spectacle', 'acropolis', '500', 'place', 'massenat', 'pu', 'promener', 'très', 'beau', 'marché', 'noël', 'tout', 'ça', 'sans', 'utiliser', 'voiture', 'rendre', 'séjour', 'encore', 'plus', 'agréable', 'petit', 'déjéuner', 'restaurant', 'situé', 'dernier', 'étage', 'hôtel', 'vue', 'ville', 'nice', 'spa', 'hôtel', 'permet', 'aussi', 'moment', 'détente', 'jaccuzi', 'massage', 'suédois', 'conseillons', 'fortement', 'cet', 'hôtel', 'ville', 'bien', 'connue', 'qualité', 'vie', 'également', 'spécialités', 'culinaire', 'ville', 'où', 'fait', 'bon', 'vivre', 'voyez', 'nombreux', 'article', 'quotidien', 'local', 'insécurité', 'touristes', 'suivis', 'agressés', 'obligés', 'réfugiez', 'restaurant', 'échapper', 'malfrats', 'demandez', 'commerçants', 'vieux', 'nice', 'si', 'lieu', 'sécurisé', 'nuit', 'touristes', 'doit', 'prévenir', 'non', 'faire', 'com']\n",
      "Score: 0.0\n",
      "\n"
     ]
    }
   ],
   "source": [
    "import numpy as np\n",
    "from rank_bm25 import BM25Okapi\n",
    "\n",
    "# Assuming processed_bm25 and processed_corpus are already loaded\n",
    "# processed_bm25 = BM25Okapi(processed_tokenized_corpus)\n",
    "# processed_corpus = [your list of documents]\n",
    "# destinations = [list of destinations corresponding to processed_corpus]\n",
    "\n",
    "# Function to preprocess the user input (tokenization)\n",
    "def preprocess_input(user_input):\n",
    "    return user_input.split(\" \")\n",
    "\n",
    "# Function to predict the top 3 documents based on BM25\n",
    "def predict_top_3(user_input, bm25_model, corpus, destinations):\n",
    "    # Preprocess the user input (tokenization)\n",
    "    tokenized_query = preprocess_input(user_input)\n",
    "    \n",
    "    # Get the document scores for the query\n",
    "    doc_scores = bm25_model.get_scores(tokenized_query)\n",
    "    \n",
    "    # Get the indices of the top 3 documents (highest scores)\n",
    "    top_3_idx = np.argsort(doc_scores)[-3:][::-1]  # Sort and get the top 3 (in descending order)\n",
    "    \n",
    "    # Retrieve the destinations and documents corresponding to the top 3 matches\n",
    "    top_3_results = []\n",
    "    for idx in top_3_idx:\n",
    "        best_match_document = corpus[idx]\n",
    "        best_match_destination = destinations[idx]\n",
    "        top_3_results.append((best_match_destination, best_match_document, doc_scores[idx]))\n",
    "    \n",
    "    return top_3_results\n",
    "\n",
    "# Prompt the user for input (a query)\n",
    "user_input = input(\"Please enter your travel review query: \")\n",
    "\n",
    "# Get the prediction (top 3 matches and their destinations)\n",
    "top_3_results = predict_top_3(user_input, processed_bm25, processed_tokenized_corpus, agg_df.destination)\n",
    "\n",
    "# Display the results\n",
    "print(\"\\nTop 3 Matches:\")\n",
    "for result in top_3_results:\n",
    "    destination, document, score = result\n",
    "    print(f\"Destination: {destination}\\nDocument: {document}\\nScore: {score}\\n\")\n"
   ]
  },
  {
   "cell_type": "markdown",
   "metadata": {},
   "source": [
    "## Ensemble prediction\n",
    "### BM25 preprocessed + TF-IDF preprocessed + BERT"
   ]
  },
  {
   "cell_type": "code",
   "execution_count": 43,
   "metadata": {},
   "outputs": [
    {
     "name": "stdout",
     "output_type": "stream",
     "text": [
      "\n",
      "Top 3 Ensemble Predictions:\n",
      "Destination: Annecy\n",
      "Score: 0.42992353439331055\n",
      "\n",
      "Destination: Milano P Garibaldi\n",
      "Score: 0.4010082185268402\n",
      "\n",
      "Destination: Geneve\n",
      "Score: 0.39729994535446167\n",
      "\n"
     ]
    }
   ],
   "source": [
    "import numpy as np\n",
    "from rank_bm25 import BM25Okapi\n",
    "from sklearn.feature_extraction.text import TfidfVectorizer\n",
    "from sklearn.metrics.pairwise import cosine_similarity\n",
    "from sentence_transformers import SentenceTransformer\n",
    "\n",
    "# Assuming processed_bm25, processed_corpus, agg_df, and destinations are already loaded\n",
    "\n",
    "# Define the preprocessing function for user input (same as before)\n",
    "def preprocess_input(user_input):\n",
    "    return user_input.split(\" \")\n",
    "\n",
    "# BM25 model\n",
    "def predict_bm25(user_input, bm25_model, corpus, destinations):\n",
    "    tokenized_query = preprocess_input(user_input)\n",
    "    doc_scores = bm25_model.get_scores(tokenized_query)\n",
    "    top_3_idx = np.argsort(doc_scores)[-3:][::-1]\n",
    "    \n",
    "    top_3_results = []\n",
    "    for idx in top_3_idx:\n",
    "        best_match_document = corpus[idx]\n",
    "        best_match_destination = destinations[idx]\n",
    "        top_3_results.append((best_match_destination, best_match_document, doc_scores[idx]))\n",
    "    \n",
    "    return top_3_results\n",
    "\n",
    "# TF-IDF model\n",
    "def predict_tfidf(user_input, tfidf_matrix, tfidf, corpus, destinations):\n",
    "    query_vector = tfidf.transform([user_input])\n",
    "    doc_scores = cosine_similarity(query_vector, tfidf_matrix).flatten()\n",
    "    top_3_idx = np.argsort(doc_scores)[-3:][::-1]\n",
    "    \n",
    "    top_3_results = []\n",
    "    for idx in top_3_idx:\n",
    "        best_match_document = corpus[idx]\n",
    "        best_match_destination = destinations[idx]\n",
    "        top_3_results.append((best_match_destination, best_match_document, doc_scores[idx]))\n",
    "    \n",
    "    return top_3_results\n",
    "\n",
    "# BERT model\n",
    "def predict_bert(user_input, model, embeddings, corpus, destinations):\n",
    "    query_embedding = model.encode([user_input])\n",
    "    doc_scores = cosine_similarity(query_embedding, embeddings).flatten()\n",
    "    top_3_idx = np.argsort(doc_scores)[-3:][::-1]\n",
    "    \n",
    "    top_3_results = []\n",
    "    for idx in top_3_idx:\n",
    "        best_match_document = corpus[idx]\n",
    "        best_match_destination = destinations[idx]\n",
    "        top_3_results.append((best_match_destination, best_match_document, doc_scores[idx]))\n",
    "    \n",
    "    return top_3_results\n",
    "\n",
    "# Ensemble model\n",
    "def ensemble_predict(user_input, bm25_model, tfidf_matrix, tfidf, model, embeddings, corpus, destinations):\n",
    "    # Get predictions from each model\n",
    "    bm25_results = predict_bm25(user_input, bm25_model, corpus, destinations)\n",
    "    tfidf_results = predict_tfidf(user_input, tfidf_matrix, tfidf, corpus, destinations)\n",
    "    bert_results = predict_bert(user_input, model, embeddings, corpus, destinations)\n",
    "    \n",
    "    # Combine the results from all models\n",
    "    combined_results = {}\n",
    "    for result in bm25_results + tfidf_results + bert_results:\n",
    "        destination, document, score = result\n",
    "        if destination not in combined_results:\n",
    "            combined_results[destination] = []\n",
    "        combined_results[destination].append(score)\n",
    "    \n",
    "    # Calculate the average score for each destination\n",
    "    averaged_results = []\n",
    "    for destination, scores in combined_results.items():\n",
    "        avg_score = np.mean(scores)\n",
    "        averaged_results.append((destination, avg_score))\n",
    "    \n",
    "    # Sort by average score and return top 3\n",
    "    averaged_results.sort(key=lambda x: x[1], reverse=True)\n",
    "    top_3_ensemble = averaged_results[:3]\n",
    "    \n",
    "    return top_3_ensemble\n",
    "\n",
    "# Load the pre-trained models and other variables\n",
    "# Example: processed_bm25, processed_corpus, tfidf_matrix, tfidf, model (BERT), embeddings, destinations\n",
    "\n",
    "# User input query\n",
    "user_input = input(\"Please enter your travel review query: \")\n",
    "\n",
    "# Get the ensemble prediction\n",
    "top_3_ensemble = ensemble_predict(user_input, processed_bm25, tfidf_matrix, tfidf, bert_model, embeddings, processed_corpus, agg_df.destination)\n",
    "\n",
    "# Display the top 3 results\n",
    "print(\"\\nTop 3 Ensemble Predictions:\")\n",
    "for destination, score in top_3_ensemble:\n",
    "    print(f\"Destination: {destination}\\nScore: {score}\\n\")\n"
   ]
  },
  {
   "cell_type": "markdown",
   "metadata": {},
   "source": [
    "## Functional streamlit app "
   ]
  },
  {
   "cell_type": "code",
   "execution_count": 49,
   "metadata": {},
   "outputs": [],
   "source": [
    "## Export models\n",
    "\n",
    "import pickle\n",
    "import os\n",
    "\n",
    "# Create the 'app_models' directory if it doesn't exist\n",
    "if not os.path.exists('app_models'):\n",
    "    os.makedirs('app_models')\n",
    "\n",
    "# Export BM25 model\n",
    "with open(\"app_models/processed_bm25.pkl\", \"wb\") as f:\n",
    "    pickle.dump(processed_bm25, f)\n",
    "\n",
    "# Export TF-IDF vectorizer and matrix\n",
    "with open(\"app_models/tfidf_vectorizer.pkl\", \"wb\") as f:\n",
    "    pickle.dump(tfidf, f)\n",
    "\n",
    "with open(\"app_models/tfidf_matrix.pkl\", \"wb\") as f:\n",
    "    pickle.dump(tfidf_matrix, f)\n",
    "\n",
    "# Export BERT model\n",
    "with open(\"app_models/bert_model.pkl\", \"wb\") as f:\n",
    "    pickle.dump(bert_model, f)\n",
    "\n",
    "# Export embeddings\n",
    "with open(\"app_models/embeddings.pkl\", \"wb\") as f:\n",
    "    pickle.dump(embeddings, f)\n",
    "\n",
    "# Export processed_corpus and agg_df.destination (if required)\n",
    "with open(\"app_models/processed_corpus.pkl\", \"wb\") as f:\n",
    "    pickle.dump(processed_corpus, f)\n",
    "\n",
    "with open(\"app_models/agg_df_destination.pkl\", \"wb\") as f:\n",
    "    pickle.dump(agg_df.destination, f)\n",
    "\n",
    "with open(\"app_models/agg_df_train_emissions.pkl\", \"wb\") as f:\n",
    "    pickle.dump(agg_df.train_emissions, f)\n",
    "\n"
   ]
  },
  {
   "cell_type": "markdown",
   "metadata": {},
   "source": [
    "## app with no balance between f1 and emissions"
   ]
  },
  {
   "cell_type": "code",
   "execution_count": 3,
   "metadata": {},
   "outputs": [
    {
     "name": "stdout",
     "output_type": "stream",
     "text": [
      "^C\n"
     ]
    }
   ],
   "source": [
    "# Save the app code to a Python file and run Streamlit\n",
    "streamlit_code = \"\"\"\n",
    "import streamlit as st\n",
    "import numpy as np\n",
    "from rank_bm25 import BM25Okapi\n",
    "from sklearn.feature_extraction.text import TfidfVectorizer\n",
    "from sklearn.metrics.pairwise import cosine_similarity\n",
    "from sentence_transformers import SentenceTransformer\n",
    "import pandas as pd\n",
    "import pickle\n",
    "import os\n",
    "\n",
    "# Define the path to the app_models folder\n",
    "models_path = 'app_models/'\n",
    "\n",
    "# Load BM25 model\n",
    "with open(os.path.join(models_path, \"processed_bm25.pkl\"), \"rb\") as f:\n",
    "    processed_bm25 = pickle.load(f)\n",
    "\n",
    "# Load TF-IDF vectorizer and matrix\n",
    "with open(os.path.join(models_path, \"tfidf_vectorizer.pkl\"), \"rb\") as f:\n",
    "    tfidf = pickle.load(f)\n",
    "\n",
    "with open(os.path.join(models_path, \"tfidf_matrix.pkl\"), \"rb\") as f:\n",
    "    tfidf_matrix = pickle.load(f)\n",
    "\n",
    "# Load BERT model\n",
    "with open(os.path.join(models_path, \"bert_model.pkl\"), \"rb\") as f:\n",
    "    bert_model = pickle.load(f)\n",
    "\n",
    "# Load embeddings\n",
    "with open(os.path.join(models_path, \"embeddings.pkl\"), \"rb\") as f:\n",
    "    embeddings = pickle.load(f)\n",
    "\n",
    "# Load processed_corpus and agg_df.destination (if required)\n",
    "with open(os.path.join(models_path, \"processed_corpus.pkl\"), \"rb\") as f:\n",
    "    processed_corpus = pickle.load(f)\n",
    "\n",
    "with open(os.path.join(models_path, \"agg_df_destination.pkl\"), \"rb\") as f:\n",
    "    agg_df_destination = pickle.load(f)\n",
    "\n",
    "# Load the emissions data (agg_df_train_emissions)\n",
    "with open(os.path.join(models_path, \"agg_df_train_emissions.pkl\"), \"rb\") as f:\n",
    "    agg_df_train_emissions = pickle.load(f)\n",
    "\n",
    "# Define the preprocessing function for user input\n",
    "def preprocess_input(user_input):\n",
    "    return user_input.split(\" \")\n",
    "\n",
    "# BM25 model prediction\n",
    "def predict_bm25(user_input, bm25_model, corpus, destinations):\n",
    "    tokenized_query = preprocess_input(user_input)\n",
    "    doc_scores = bm25_model.get_scores(tokenized_query)\n",
    "    top_3_idx = np.argsort(doc_scores)[-3:][::-1]\n",
    "    \n",
    "    top_3_results = []\n",
    "    for idx in top_3_idx:\n",
    "        best_match_document = corpus[idx]\n",
    "        best_match_destination = destinations[idx]\n",
    "        top_3_results.append((best_match_destination, best_match_document, doc_scores[idx]))\n",
    "    \n",
    "    return top_3_results\n",
    "\n",
    "# TF-IDF model prediction\n",
    "def predict_tfidf(user_input, tfidf_matrix, tfidf, corpus, destinations):\n",
    "    query_vector = tfidf.transform([user_input])\n",
    "    doc_scores = cosine_similarity(query_vector, tfidf_matrix).flatten()\n",
    "    top_3_idx = np.argsort(doc_scores)[-3:][::-1]\n",
    "    \n",
    "    top_3_results = []\n",
    "    for idx in top_3_idx:\n",
    "        best_match_document = corpus[idx]\n",
    "        best_match_destination = destinations[idx]\n",
    "        top_3_results.append((best_match_destination, best_match_document, doc_scores[idx]))\n",
    "    \n",
    "    return top_3_results\n",
    "\n",
    "# BERT model prediction\n",
    "def predict_bert(user_input, model, embeddings, corpus, destinations):\n",
    "    query_embedding = model.encode([user_input])\n",
    "    doc_scores = cosine_similarity(query_embedding, embeddings).flatten()\n",
    "    top_3_idx = np.argsort(doc_scores)[-3:][::-1]\n",
    "    \n",
    "    top_3_results = []\n",
    "    for idx in top_3_idx:\n",
    "        best_match_document = corpus[idx]\n",
    "        best_match_destination = destinations[idx]\n",
    "        top_3_results.append((best_match_destination, best_match_document, doc_scores[idx]))\n",
    "    \n",
    "    return top_3_results\n",
    "\n",
    "def ensemble_predict_with_emissions(user_input, bm25_model, tfidf_matrix, tfidf, model, embeddings, corpus, destinations, emissions_data):\n",
    "    # Get predictions from each model\n",
    "    bm25_results = predict_bm25(user_input, bm25_model, corpus, destinations)\n",
    "    tfidf_results = predict_tfidf(user_input, tfidf_matrix, tfidf, corpus, destinations)\n",
    "    bert_results = predict_bert(user_input, model, embeddings, corpus, destinations)\n",
    "    \n",
    "    # Combine the results from all models\n",
    "    combined_results = {}\n",
    "    for result in bm25_results + tfidf_results + bert_results:\n",
    "        destination, document, score = result\n",
    "        if destination not in combined_results:\n",
    "            combined_results[destination] = []\n",
    "        combined_results[destination].append(score)\n",
    "    \n",
    "    # Calculate the average score for each destination and add emissions data\n",
    "    averaged_results = []\n",
    "    for destination, scores in combined_results.items():\n",
    "        avg_score = np.mean(scores)\n",
    "        \n",
    "        # Retrieve the emission for the destination from emissions_data (which is a pandas Series)\n",
    "        try:\n",
    "            emissions = emissions_data[agg_df_destination == destination].values[0]  # .values[0] to extract the scalar value\n",
    "        except IndexError:\n",
    "            emissions = 0  # Default to 0 if the destination is not found\n",
    "            \n",
    "        averaged_results.append((destination, avg_score, emissions))\n",
    "    \n",
    "    # Sort by average score and return top 3\n",
    "    averaged_results.sort(key=lambda x: x[1], reverse=True)\n",
    "    top_3_ensemble = averaged_results[:3]\n",
    "    \n",
    "    return top_3_ensemble\n",
    "\n",
    "# Streamlit app code with emissions\n",
    "def run_streamlit_app_with_emissions():\n",
    "    st.title(\"Travel Review Prediction with Ensemble Models (Including Emissions)\")\n",
    "    \n",
    "    # Input field for user query\n",
    "    user_input = st.text_input(\"Enter your travel review query:\")\n",
    "    \n",
    "    if user_input:\n",
    "        st.write(\"User input received:\", user_input)  # Debugging line\n",
    "\n",
    "        # Get the ensemble prediction with emissions\n",
    "        top_3_ensemble_with_emissions = ensemble_predict_with_emissions(user_input, processed_bm25, tfidf_matrix, tfidf, bert_model, embeddings, processed_corpus, agg_df_destination, agg_df_train_emissions)\n",
    "\n",
    "        if top_3_ensemble_with_emissions:\n",
    "            st.write(\"### Top 3 Predictions:\")\n",
    "            for destination, score, emissions in top_3_ensemble_with_emissions:\n",
    "                st.write(f\"**Destination:** {destination}\")\n",
    "                st.write(f\"**Score:** {score:.2f}\")\n",
    "                st.write(f\"**Emissions (kg CO2):** {emissions:.2f}\")\n",
    "                st.write(\"---\")\n",
    "        else:\n",
    "            st.write(\"No predictions found.\")\n",
    "\n",
    "# Run the Streamlit app with emissions data\n",
    "run_streamlit_app_with_emissions()\n",
    "\n",
    "\"\"\"\n",
    "\n",
    "# Save the app code to a file\n",
    "with open(\"streamlit_app.py\", \"w\") as f:\n",
    "    f.write(streamlit_code)\n",
    "\n",
    "# Run the Streamlit app (in notebook environment)\n",
    "!streamlit run streamlit_app.py\n"
   ]
  },
  {
   "cell_type": "markdown",
   "metadata": {},
   "source": [
    "## With balance"
   ]
  },
  {
   "cell_type": "code",
   "execution_count": 4,
   "metadata": {},
   "outputs": [
    {
     "name": "stdout",
     "output_type": "stream",
     "text": [
      "^C\n"
     ]
    }
   ],
   "source": [
    "# Save the app code to a Python file and run Streamlit\n",
    "streamlit_code = \"\"\"\n",
    "import streamlit as st\n",
    "import numpy as np\n",
    "from rank_bm25 import BM25Okapi\n",
    "from sklearn.feature_extraction.text import TfidfVectorizer\n",
    "from sklearn.metrics.pairwise import cosine_similarity\n",
    "from sentence_transformers import SentenceTransformer\n",
    "import pandas as pd\n",
    "import pickle\n",
    "import os\n",
    "\n",
    "# Assuming processed_bm25, processed_corpus, agg_df, and destinations are already loaded\n",
    "\n",
    "# Define the path to the app_models folder\n",
    "models_path = 'app_models/'\n",
    "\n",
    "# Load BM25 model\n",
    "with open(os.path.join(models_path, \"processed_bm25.pkl\"), \"rb\") as f:\n",
    "    processed_bm25 = pickle.load(f)\n",
    "\n",
    "# Load TF-IDF vectorizer and matrix\n",
    "with open(os.path.join(models_path, \"tfidf_vectorizer.pkl\"), \"rb\") as f:\n",
    "    tfidf = pickle.load(f)\n",
    "\n",
    "with open(os.path.join(models_path, \"tfidf_matrix.pkl\"), \"rb\") as f:\n",
    "    tfidf_matrix = pickle.load(f)\n",
    "\n",
    "# Load BERT model\n",
    "with open(os.path.join(models_path, \"bert_model.pkl\"), \"rb\") as f:\n",
    "    bert_model = pickle.load(f)\n",
    "\n",
    "# Load embeddings\n",
    "with open(os.path.join(models_path, \"embeddings.pkl\"), \"rb\") as f:\n",
    "    embeddings = pickle.load(f)\n",
    "\n",
    "# Load processed_corpus and agg_df.destination (if required)\n",
    "with open(os.path.join(models_path, \"processed_corpus.pkl\"), \"rb\") as f:\n",
    "    processed_corpus = pickle.load(f)\n",
    "\n",
    "with open(os.path.join(models_path, \"agg_df_destination.pkl\"), \"rb\") as f:\n",
    "    agg_df_destination = pickle.load(f)\n",
    "\n",
    "# Load the train emissions data\n",
    "with open(os.path.join(models_path, \"agg_df_train_emissions.pkl\"), \"rb\") as f:\n",
    "    agg_df_train_emissions = pickle.load(f)\n",
    "\n",
    "# Preprocessing function for user input\n",
    "def preprocess_input(user_input):\n",
    "    return user_input.split(\" \")\n",
    "\n",
    "# BM25 model\n",
    "def predict_bm25(user_input, bm25_model, corpus, destinations):\n",
    "    tokenized_query = preprocess_input(user_input)\n",
    "    doc_scores = bm25_model.get_scores(tokenized_query)\n",
    "    top_3_idx = np.argsort(doc_scores)[-3:][::-1]\n",
    "    \n",
    "    top_3_results = []\n",
    "    for idx in top_3_idx:\n",
    "        best_match_document = corpus[idx]\n",
    "        best_match_destination = destinations[idx]\n",
    "        top_3_results.append((best_match_destination, best_match_document, doc_scores[idx]))\n",
    "    \n",
    "    return top_3_results\n",
    "\n",
    "# TF-IDF model\n",
    "def predict_tfidf(user_input, tfidf_matrix, tfidf, corpus, destinations):\n",
    "    query_vector = tfidf.transform([user_input])\n",
    "    doc_scores = cosine_similarity(query_vector, tfidf_matrix).flatten()\n",
    "    top_3_idx = np.argsort(doc_scores)[-3:][::-1]\n",
    "    \n",
    "    top_3_results = []\n",
    "    for idx in top_3_idx:\n",
    "        best_match_document = corpus[idx]\n",
    "        best_match_destination = destinations[idx]\n",
    "        top_3_results.append((best_match_destination, best_match_document, doc_scores[idx]))\n",
    "    \n",
    "    return top_3_results\n",
    "\n",
    "# BERT model\n",
    "def predict_bert(user_input, model, embeddings, corpus, destinations):\n",
    "    query_embedding = model.encode([user_input])\n",
    "    doc_scores = cosine_similarity(query_embedding, embeddings).flatten()\n",
    "    top_3_idx = np.argsort(doc_scores)[-3:][::-1]\n",
    "    \n",
    "    top_3_results = []\n",
    "    for idx in top_3_idx:\n",
    "        best_match_document = corpus[idx]\n",
    "        best_match_destination = destinations[idx]\n",
    "        top_3_results.append((best_match_destination, best_match_document, doc_scores[idx]))\n",
    "    \n",
    "    return top_3_results\n",
    "\n",
    "# Ensemble model\n",
    "def ensemble_predict(user_input, bm25_model, tfidf_matrix, tfidf, model, embeddings, corpus, destinations):\n",
    "    # Get predictions from each model\n",
    "    bm25_results = predict_bm25(user_input, bm25_model, corpus, destinations)\n",
    "    tfidf_results = predict_tfidf(user_input, tfidf_matrix, tfidf, corpus, destinations)\n",
    "    bert_results = predict_bert(user_input, model, embeddings, corpus, destinations)\n",
    "    \n",
    "    # Combine the results from all models\n",
    "    combined_results = {}\n",
    "    for result in bm25_results + tfidf_results + bert_results:\n",
    "        destination, document, score = result\n",
    "        if destination not in combined_results:\n",
    "            combined_results[destination] = []\n",
    "        combined_results[destination].append(score)\n",
    "    \n",
    "    # Calculate the average score for each destination\n",
    "    averaged_results = []\n",
    "    for destination, scores in combined_results.items():\n",
    "        avg_score = np.mean(scores)\n",
    "        averaged_results.append((destination, avg_score))\n",
    "    \n",
    "    # Sort by average score and return top 3\n",
    "    averaged_results.sort(key=lambda x: x[1], reverse=True)\n",
    "    top_3_ensemble = averaged_results[:3]\n",
    "    \n",
    "    return top_3_ensemble\n",
    "\n",
    "# Recommendation with Best F1 and Lowest Emissions Balance\n",
    "def recommend_best_destination_with_balance(top_3_ensemble_with_emissions):\n",
    "    # Directly calculate F1 score - emissions for each recommendation\n",
    "    recommendations = []\n",
    "    for destination, f1_score, emissions in top_3_ensemble_with_emissions:\n",
    "        combined_score = f1_score - emissions  # F1 score - emissions (no scaling/normalization)\n",
    "        recommendations.append((destination, combined_score))\n",
    "\n",
    "    # Get the destination with the highest combined score\n",
    "    best_destination = max(recommendations, key=lambda x: x[1])[0]\n",
    "    return best_destination\n",
    "\n",
    "# Streamlit app code\n",
    "def run_streamlit_app_with_best_recommendation():\n",
    "    st.title(\"Travel Review Prediction with Ensemble Models\")\n",
    "    \n",
    "    # Input field for user query\n",
    "    user_input = st.text_input(\"Enter your travel review query:\")\n",
    "    \n",
    "    if user_input:\n",
    "        st.write(\"User input received:\", user_input)  # Debugging line\n",
    "\n",
    "        # Get the ensemble prediction with emissions\n",
    "        top_3_ensemble_with_emissions = ensemble_predict(user_input, processed_bm25, tfidf_matrix, tfidf, bert_model, embeddings, processed_corpus, agg_df_destination)\n",
    "\n",
    "        # Add emissions to the results\n",
    "        top_3_ensemble_with_emissions_and_emissions = []\n",
    "        for (destination, score) in top_3_ensemble_with_emissions:\n",
    "            # Instead of using .index(), use .loc to fetch the emission value\n",
    "            emissions = agg_df_train_emissions.loc[agg_df_destination == destination].values[0]\n",
    "            top_3_ensemble_with_emissions_and_emissions.append((destination, score, emissions))\n",
    "\n",
    "        # Display top 3 predictions with F1 score and emissions\n",
    "        st.write(\"### Top 3 Predictions:\")\n",
    "        for destination, score, emissions in top_3_ensemble_with_emissions_and_emissions:\n",
    "            st.write(f\"**Destination:** {destination}\")\n",
    "            st.write(f\"**F1 Score:** {score:.2f}\")\n",
    "            st.write(f\"**Emissions:** {emissions:.2f} kg CO2\")\n",
    "            st.write(\"---\")\n",
    "        \n",
    "        # Get the best destination based on F1 score and emissions balance\n",
    "        best_destination = recommend_best_destination_with_balance(top_3_ensemble_with_emissions_and_emissions)\n",
    "\n",
    "        st.write(\"### Best Recommendation based on F1 Score - Emissions:\")\n",
    "        st.write(f\"**Best Destination:** {best_destination}\")\n",
    "        \n",
    "\n",
    "run_streamlit_app_with_best_recommendation()\n",
    "\n",
    "\"\"\"\n",
    "\n",
    "# Save the app code to a file\n",
    "with open(\"streamlit_app.py\", \"w\") as f:\n",
    "    f.write(streamlit_code)\n",
    "\n",
    "# Run the Streamlit app (in notebook environment)\n",
    "!streamlit run streamlit_app.py\n"
   ]
  },
  {
   "cell_type": "code",
   "execution_count": 1,
   "metadata": {},
   "outputs": [
    {
     "data": {
      "text/plain": [
       "0               Annecy\n",
       "1           Zuerich HB\n",
       "2    Rouen Rive Droite\n",
       "3          La Rochelle\n",
       "4             Grenoble\n",
       "Name: destination, dtype: object"
      ]
     },
     "execution_count": 1,
     "metadata": {},
     "output_type": "execute_result"
    }
   ],
   "source": [
    "import os\n",
    "import pickle\n",
    "models_path = 'app_models/'\n",
    "\n",
    "with open(os.path.join(models_path, \"agg_df_destination.pkl\"), \"rb\") as f:\n",
    "    agg_df_destination = pickle.load(f)\n",
    "agg_df_destination.head()"
   ]
  },
  {
   "cell_type": "code",
   "execution_count": 6,
   "metadata": {},
   "outputs": [
    {
     "name": "stdout",
     "output_type": "stream",
     "text": [
      "3.11.7 (tags/v3.11.7:fa7a6f2, Dec  4 2023, 19:24:49) [MSC v.1937 64 bit (AMD64)]\n"
     ]
    }
   ],
   "source": [
    "import sys\n",
    "\n",
    "print(sys.version)"
   ]
  }
 ],
 "metadata": {
  "kernelspec": {
   "display_name": "Python 3",
   "language": "python",
   "name": "python3"
  },
  "language_info": {
   "codemirror_mode": {
    "name": "ipython",
    "version": 3
   },
   "file_extension": ".py",
   "mimetype": "text/x-python",
   "name": "python",
   "nbconvert_exporter": "python",
   "pygments_lexer": "ipython3",
   "version": "3.11.7"
  }
 },
 "nbformat": 4,
 "nbformat_minor": 2
}
